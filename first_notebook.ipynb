{
  "cells": [
    {
      "cell_type": "markdown",
      "metadata": {
        "id": "DeFyYoobpYvS"
      },
      "source": [
        "# Introdução ao Python para Data Science - Ramo Estudantil IEEE UFPB\n",
        "\n",
        "Este notebook é uma introdução ao uso de Python para Data Science. Vamos cobrir conceitos básicos de Python e introduzir bibliotecas populares usadas em Data Science, como NumPy, Pandas, Matplotlib e Scikit-learn. Cópie o notebook, execute e finalize.\n",
        "\n",
        "## Sumário\n",
        "1. [Introdução ao Python](#section1)\n",
        "2. [NumPy: Arrays e Operações Matemáticas](#section2)\n",
        "3. [Pandas: Manipulação de Dados](#section3)\n",
        "4. [Matplotlib: Visualização de Dados](#section4)\n",
        "5. [Scikit-learn: Introdução ao Machine Learning](#section5)\n",
        "5. [Extra - opcional](#section6)\n",
        "\n",
        "<a name=\"section1\"></a>\n",
        "## 1. Introdução ao Python\n",
        "\n",
        "### 1.1 Variáveis e Tipos de Dados\n",
        "\n",
        "É possível de ver valores com tipagens diferentes"
      ]
    },
    {
      "cell_type": "code",
      "execution_count": 175,
      "metadata": {
        "id": "Sfo7zJboFMmd"
      },
      "outputs": [
        {
          "name": "stdout",
          "output_type": "stream",
          "text": [
            "a: 10  - Tipo: <class 'int'>\n",
            "b: 20.5  - Tipo: <class 'float'>\n",
            "c: Hello, Python!  - Tipo: <class 'str'>\n",
            "d: True  - Tipo: <class 'bool'>\n"
          ]
        }
      ],
      "source": [
        "# Declarando variáveis\n",
        "a = 10       # Inteiro\n",
        "b = 20.5     # Float\n",
        "c = \"Hello, Python!\"  # String\n",
        "d = True     # Booleano\n",
        "\n",
        "print(\"a:\", a, \" - Tipo:\", type(a))\n",
        "print(\"b:\", b, \" - Tipo:\", type(b))\n",
        "print(\"c:\", c, \" - Tipo:\", type(c))\n",
        "print(\"d:\", d, \" - Tipo:\", type(d))\n"
      ]
    },
    {
      "cell_type": "markdown",
      "metadata": {
        "id": "CJDyeqmiwHyl"
      },
      "source": [
        "### 1.2 Estruturas de Dados: tipagem"
      ]
    },
    {
      "cell_type": "code",
      "execution_count": 176,
      "metadata": {
        "id": "SYdPWWNCwIQl"
      },
      "outputs": [
        {
          "name": "stdout",
          "output_type": "stream",
          "text": [
            "Lista: [1, 2, 3, 4, 5]\n",
            "Tupla: (1, 2, 3, 4, 5)\n",
            "Dicionário: {'nome': 'Ana', 'idade': 23, 'cidade': 'São Paulo'}\n",
            "Conjunto: {1, 2, 3, 4, 5}\n"
          ]
        }
      ],
      "source": [
        "# Lista\n",
        "lista = [1, 2, 3, 4, 5]\n",
        "print(\"Lista:\", lista)\n",
        "\n",
        "# Tupla\n",
        "tupla = (1, 2, 3, 4, 5)\n",
        "print(\"Tupla:\", tupla)\n",
        "\n",
        "# Dicionário\n",
        "dicionario = {\"nome\": \"Ana\", \"idade\": 23, \"cidade\": \"São Paulo\"}\n",
        "print(\"Dicionário:\", dicionario)\n",
        "\n",
        "# Conjunto\n",
        "conjunto = {1, 2, 3, 4, 5}\n",
        "print(\"Conjunto:\", conjunto)\n"
      ]
    },
    {
      "cell_type": "markdown",
      "metadata": {
        "id": "6oBEZxuTpkuT"
      },
      "source": [
        "### 1.3 Estruturas de Controle"
      ]
    },
    {
      "cell_type": "code",
      "execution_count": 177,
      "metadata": {
        "id": "DZ1NvafVoY-4"
      },
      "outputs": [
        {
          "name": "stdout",
          "output_type": "stream",
          "text": [
            "a é maior ou igual a b\n",
            "Valor de i: 0\n",
            "Valor de i: 1\n",
            "Valor de i: 2\n",
            "Valor de i: 3\n",
            "Valor de i: 4\n",
            "Contador: 0\n",
            "Contador: 1\n",
            "Contador: 2\n",
            "Contador: 3\n",
            "Contador: 4\n"
          ]
        }
      ],
      "source": [
        "a = 10\n",
        "b = 9\n",
        "\n",
        "# Condicional\n",
        "if a < b:\n",
        "    print(\"a é menor que b\")\n",
        "else:\n",
        "    print(\"a é maior ou igual a b\")\n",
        "\n",
        "# Laço de repetição\n",
        "for i in range(5):\n",
        "    print(\"Valor de i:\", i)\n",
        "\n",
        "# Loop while\n",
        "contador = 0\n",
        "while contador < 5:\n",
        "    print(\"Contador:\", contador)\n",
        "    contador += 1\n"
      ]
    },
    {
      "cell_type": "markdown",
      "metadata": {
        "id": "sS49wH2nr9Bb"
      },
      "source": [
        "### 1.4 Funções"
      ]
    },
    {
      "cell_type": "code",
      "execution_count": 178,
      "metadata": {
        "id": "Q_3-SQR3r9Xa"
      },
      "outputs": [
        {
          "name": "stdout",
          "output_type": "stream",
          "text": [
            "Soma: 8\n",
            "Olá, Ana!\n",
            "Olá, Mundo!\n"
          ]
        }
      ],
      "source": [
        "# Definindo uma função\n",
        "def soma(x, y):\n",
        "    return x + y\n",
        "\n",
        "resultado = soma(5, 3)\n",
        "print(\"Soma:\", resultado)\n",
        "\n",
        "# Função com argumento padrão\n",
        "def saudacao(nome=\"Mundo\"):\n",
        "    print(f\"Olá, {nome}!\")\n",
        "\n",
        "saudacao(\"Ana\")\n",
        "saudacao()\n"
      ]
    },
    {
      "cell_type": "markdown",
      "metadata": {
        "id": "_Ie7Vg0H0AbP"
      },
      "source": [
        "### Desafio 1: Implementação de Estruturas de Dados em Python\n",
        "**Problema**\n",
        "\n",
        "Você foi contratado para implementar uma versão simplificada de uma lista encadeada (LinkedList) em Python. Sua tarefa é criar uma classe para a lista encadeada e adicionar métodos para inserir, remover e buscar elementos.\n",
        "\n",
        "Requisitos\n",
        "\n",
        "1. **Classe Node:**\n",
        "\n",
        "Deve representar um nó na lista encadeada.\n",
        "Deve conter um valor (data) e um ponteiro para o próximo nó (next).\n",
        "\n",
        "2. **Classe LinkedList:**\n",
        "\n",
        "Deve representar a lista encadeada.\n",
        "Deve ter um ponteiro para o nó inicial (head).\n",
        "Métodos a serem implementados:\n",
        "insert(value): Insere um novo nó com o valor especificado no final da lista.\n",
        "remove(value): Remove o nó com o valor especificado da lista.\n",
        "search(value): Retorna True se o valor estiver presente na lista, caso contrário, False.\n",
        "display(): Exibe todos os valores na lista encadeada.\n",
        "\n",
        "\n",
        "--> Exemplo de lista encadeada em C: [link](https://www.ime.usp.br/~pf/algoritmos/aulas/lista.html)\n",
        "\n",
        "--> Exemplo de lista encadeada em python: [link](https://awari.com.br/lista-encadeada-em-python-aprenda-a-estrutura-de-dados-essencial-para-programacao/?utm_source=blog&utm_campaign=projeto+blog&utm_medium=Lista%20Encadeada%20em%20Python:%20Aprenda%20a%20Estrutura%20de%20Dados%20Essencial%20para%20Programa%C3%A7%C3%A3o#:~:text=As%20listas%20encadeadas%20em%20Python,que%20ser%C3%A3o%20armazenados%20na%20lista.)\n"
      ]
    },
    {
      "cell_type": "code",
      "execution_count": 179,
      "metadata": {
        "id": "vvsnlZ5o5YhQ"
      },
      "outputs": [
        {
          "name": "stdout",
          "output_type": "stream",
          "text": [
            "1 -> 2 -> 3 -> None\n",
            "True\n",
            "1 -> 3 -> None\n",
            "False\n"
          ]
        }
      ],
      "source": [
        "# Definindo a classe Node\n",
        "class Node:\n",
        "    def __init__(self, data):\n",
        "        self.data = data\n",
        "        self.next = None\n",
        "\n",
        "# Definindo a classe LinkedList\n",
        "class LinkedList:\n",
        "    def __init__(self):\n",
        "        self.head = None\n",
        "\n",
        "    def insert(self, value):\n",
        "        new_node = Node(value)\n",
        "        if self.head == None:\n",
        "            self.head = new_node\n",
        "        else:\n",
        "            current_node = self.head\n",
        "            while current_node.next:\n",
        "                current_node = current_node.next\n",
        "            current_node.next = new_node\n",
        "    \n",
        "    def display(self):\n",
        "        current_node = self.head\n",
        "        while current_node:\n",
        "            print(f\"{current_node.data} -> \", end=\"\")\n",
        "            current_node = current_node.next\n",
        "        print(\"None\")\n",
        "    \n",
        "    def search(self, value):\n",
        "        current_node = self.head\n",
        "        while current_node.next:\n",
        "            if current_node.data == value:\n",
        "                return True\n",
        "            current_node = current_node.next\n",
        "        return False\n",
        "\n",
        "    def remove(self, value):\n",
        "        current_node = self.head\n",
        "        while current_node.next:\n",
        "            if current_node.next.data == value:\n",
        "                current_node.next = current_node.next.next\n",
        "                break\n",
        "            current_node = current_node.next\n",
        "\n",
        "\n",
        "# Exemplo de uso\n",
        "ll = LinkedList() # Instanciando a classe\n",
        "\n",
        "ll.insert(1) #chamando o método da classe\n",
        "ll.insert(2)\n",
        "ll.insert(3)\n",
        "ll.display()  # Output: 1 -> 2 -> 3 -> None\n",
        "\n",
        "print(ll.search(2))  # Output: True\n",
        "\n",
        "ll.remove(2)\n",
        "ll.display()  # Output: 1 -> 3 -> None\n",
        "print(ll.search(2))  # Output: False\n"
      ]
    },
    {
      "cell_type": "markdown",
      "metadata": {
        "id": "iV_ETOg55KGS"
      },
      "source": [
        "## Desafio 2 - Implementação de Estrutura de Dados: Pilha\n",
        "\n",
        "Neste desafio, você irá implementar a estrutura de dados de uma pilha (stack) em Python. A pilha é uma estrutura de dados que segue o princípio LIFO (Last In, First Out), onde o último elemento adicionado é o primeiro a ser removido.\n",
        "\n",
        "## Tarefas\n",
        "\n",
        "1. **Implementar a Classe `Stack`**:\n",
        "    - A classe `Stack` deve conter os seguintes métodos:\n",
        "        - `__init__`: Inicializa a pilha.\n",
        "        - `push(item)`: Adiciona um item no topo da pilha.\n",
        "        - `pop()`: Remove e retorna o item do topo da pilha.\n",
        "        - `peek()`: Retorna o item do topo da pilha sem removê-lo.\n",
        "        - `is_empty()`: Retorna `True` se a pilha estiver vazia, caso contrário, `False`.\n",
        "        - `size()`: Retorna o número de elementos na pilha.\n",
        "\n",
        "2. **Testar a Classe `Stack`**:\n",
        "    - Crie uma instância da pilha e realize operações de push, pop, peek, e verificação de vazio.\n",
        "    - Verifique se o tamanho da pilha está correto após várias operações."
      ]
    },
    {
      "cell_type": "code",
      "execution_count": 180,
      "metadata": {
        "id": "H_RNZ4mz5VVS"
      },
      "outputs": [],
      "source": [
        "# Preencha o código abaixo para completar cada tarefa.\n",
        "\n",
        "class Stack:\n",
        "    def __init__(self):\n",
        "       self.items = []\n",
        "\n",
        "    def push(self, item):\n",
        "        self.items.append(item)\n",
        "\n",
        "    def pop(self):\n",
        "        if self.is_empty():\n",
        "            return None\n",
        "        return self.items.pop()\n",
        "\n",
        "    def peek(self):\n",
        "        if self.is_empty():\n",
        "            return None\n",
        "        return self.items[-1]\n",
        "\n",
        "    def is_empty(self):\n",
        "        return self.size() == 0\n",
        "\n",
        "    def size(self):\n",
        "        return len(self.items)\n"
      ]
    },
    {
      "cell_type": "code",
      "execution_count": 181,
      "metadata": {
        "id": "yjn4Iiq-6IqZ"
      },
      "outputs": [
        {
          "name": "stdout",
          "output_type": "stream",
          "text": [
            "Pilha após push de 1, 2, 3: [1, 2, 3]\n",
            "Item retirado do topo: 3\n",
            "Pilha após pop: [1, 2]\n",
            "Item no topo da pilha: 2\n",
            "A pilha está vazia? False\n",
            "Tamanho da pilha: 2\n",
            "A pilha está vazia após remover todos os itens? True\n",
            "Tentativa de retirar item da pilha vazia: None\n",
            "Tentativa de ver o item do topo da pilha vazia: None\n"
          ]
        }
      ],
      "source": [
        "# Testando a classe Stack\n",
        "\n",
        "if __name__ == \"__main__\":\n",
        "    stack = Stack()\n",
        "\n",
        "    # Testando push\n",
        "    stack.push(1)\n",
        "    stack.push(2)\n",
        "    stack.push(3)\n",
        "    print(\"Pilha após push de 1, 2, 3:\", stack.items)\n",
        "\n",
        "    # Testando pop\n",
        "    print(\"Item retirado do topo:\", stack.pop())\n",
        "    print(\"Pilha após pop:\", stack.items)\n",
        "\n",
        "    # Testando peek\n",
        "    print(\"Item no topo da pilha:\", stack.peek())\n",
        "\n",
        "    # Testando is_empty\n",
        "    print(\"A pilha está vazia?\", stack.is_empty())\n",
        "\n",
        "    # Testando size\n",
        "    print(\"Tamanho da pilha:\", stack.size())\n",
        "\n",
        "    # Removendo todos os itens e testando operações em pilha vazia\n",
        "    stack.pop()\n",
        "    stack.pop()\n",
        "    print(\"A pilha está vazia após remover todos os itens?\", stack.is_empty())\n",
        "    print(\"Tentativa de retirar item da pilha vazia:\", stack.pop())\n",
        "    print(\"Tentativa de ver o item do topo da pilha vazia:\", stack.peek())"
      ]
    },
    {
      "cell_type": "markdown",
      "metadata": {
        "id": "wnAkFzY8tBjc"
      },
      "source": [
        "<a name=\"section2\"></a>\n",
        "## 2. NumPy: Arrays e Operações Matemáticas\n",
        "\n",
        "NumPy é uma biblioteca fundamental para computação científica em Python. Ela oferece suporte para arrays multidimensionais e matrizes, além de uma coleção de funções matemáticas para operar esses arrays."
      ]
    },
    {
      "cell_type": "markdown",
      "metadata": {
        "id": "rf7SLo_jr947"
      },
      "source": [
        "### 2.1 Criando Arrays"
      ]
    },
    {
      "cell_type": "code",
      "execution_count": 182,
      "metadata": {
        "id": "eyvad4C2r-QC"
      },
      "outputs": [],
      "source": [
        "import numpy as np"
      ]
    },
    {
      "cell_type": "code",
      "execution_count": 183,
      "metadata": {
        "id": "VMgLLchutx1U"
      },
      "outputs": [
        {
          "name": "stdout",
          "output_type": "stream",
          "text": [
            "Array1: [1 2 3 4 5]\n",
            "Array2:\n",
            " [[1 2 3]\n",
            " [4 5 6]]\n",
            "Zeros:\n",
            " [[0. 0. 0.]\n",
            " [0. 0. 0.]]\n",
            "Ones:\n",
            " [[1. 1. 1.]\n",
            " [1. 1. 1.]]\n",
            "Randoms:\n",
            " [[0.56186669 0.23859686 0.67984478]\n",
            " [0.73990876 0.23823615 0.37772889]\n",
            " [0.53432747 0.49656119 0.38961809]]\n"
          ]
        }
      ],
      "source": [
        "# Criando arrays unidimensionais\n",
        "array1 = np.array([1, 2, 3, 4, 5])\n",
        "print(\"Array1:\", array1)\n",
        "\n",
        "# Criando arrays bidimensionais (matrizes)\n",
        "array2 = np.array([[1, 2, 3], [4, 5, 6]])\n",
        "print(\"Array2:\\n\", array2)\n",
        "\n",
        "# Arrays de zeros e uns\n",
        "zeros = np.zeros((2, 3))\n",
        "print(\"Zeros:\\n\", zeros)\n",
        "\n",
        "ones = np.ones((2, 3))\n",
        "print(\"Ones:\\n\", ones)\n",
        "\n",
        "# Arrays com valores aleatórios\n",
        "randoms = np.random.rand(3, 3)\n",
        "print(\"Randoms:\\n\", randoms)\n"
      ]
    },
    {
      "cell_type": "markdown",
      "metadata": {
        "id": "hnIMidN1sKp8"
      },
      "source": [
        "### 2.2 Operações com Arrays\n",
        "NumPy facilita a execução de operações matemáticas em arrays de forma elementar."
      ]
    },
    {
      "cell_type": "code",
      "execution_count": 184,
      "metadata": {
        "id": "QnAPabigtEB1"
      },
      "outputs": [
        {
          "name": "stdout",
          "output_type": "stream",
          "text": [
            "Soma com escalar: [ 6  7  8  9 10]\n",
            "Produto com escalar: [ 2  4  6  8 10]\n",
            "Soma de arrays: [ 7  9 11 13 15]\n",
            "Produto de arrays: [ 6 14 24 36 50]\n"
          ]
        }
      ],
      "source": [
        "# Operações elementares\n",
        "soma = array1 + 5\n",
        "print(\"Soma com escalar:\", soma)\n",
        "\n",
        "produto = array1 * 2\n",
        "print(\"Produto com escalar:\", produto)\n",
        "\n",
        "# Operações entre arrays\n",
        "array3 = np.array([6, 7, 8, 9, 10])\n",
        "soma_arrays = array1 + array3\n",
        "print(\"Soma de arrays:\", soma_arrays)\n",
        "\n",
        "produto_arrays = array1 * array3\n",
        "print(\"Produto de arrays:\", produto_arrays)\n"
      ]
    },
    {
      "cell_type": "markdown",
      "metadata": {
        "id": "QsVMIqw5yGcW"
      },
      "source": [
        "2.3 Propriedades dos Arrays"
      ]
    },
    {
      "cell_type": "code",
      "execution_count": 185,
      "metadata": {
        "id": "8ervU-aGyGx2"
      },
      "outputs": [
        {
          "name": "stdout",
          "output_type": "stream",
          "text": [
            "Formato do array1: (5,)\n",
            "Tamanho do array1: 5\n",
            "Formato do array2: (2, 3)\n",
            "Tamanho do array2: 6\n"
          ]
        }
      ],
      "source": [
        "# Formato e tamanho dos arrays\n",
        "print(\"Formato do array1:\", array1.shape)\n",
        "print(\"Tamanho do array1:\", array1.size)\n",
        "\n",
        "print(\"Formato do array2:\", array2.shape)\n",
        "print(\"Tamanho do array2:\", array2.size)\n"
      ]
    },
    {
      "cell_type": "markdown",
      "metadata": {
        "id": "2fdquWUQyZte"
      },
      "source": [
        "### 2.4 Funções Matemáticas\n",
        "NumPy inclui uma variedade de funções matemáticas para operar em arrays."
      ]
    },
    {
      "cell_type": "code",
      "execution_count": 186,
      "metadata": {
        "id": "o8MFNBonybIg"
      },
      "outputs": [
        {
          "name": "stdout",
          "output_type": "stream",
          "text": [
            "Média do array1: 3.0\n",
            "Desvio padrão do array1: 1.4142135623730951\n",
            "Soma dos elementos do array1: 15\n",
            "Produto dos elementos do array1: 120\n",
            "Senos dos ângulos: [0.0000000e+00 1.0000000e+00 1.2246468e-16]\n",
            "Exponencial: [  2.71828183   7.3890561   20.08553692  54.59815003 148.4131591 ]\n",
            "Logaritmo: [0.         0.69314718 1.09861229 1.38629436 1.60943791]\n"
          ]
        }
      ],
      "source": [
        "# Funções matemáticas\n",
        "print(\"Média do array1:\", np.mean(array1))\n",
        "print(\"Desvio padrão do array1:\", np.std(array1))\n",
        "print(\"Soma dos elementos do array1:\", np.sum(array1))\n",
        "print(\"Produto dos elementos do array1:\", np.prod(array1))\n",
        "\n",
        "# Funções trigonometricas\n",
        "angulos = np.array([0, np.pi/2, np.pi])\n",
        "senos = np.sin(angulos)\n",
        "print(\"Senos dos ângulos:\", senos)\n",
        "\n",
        "# Exponencial e logaritmo\n",
        "exp = np.exp(array1)\n",
        "print(\"Exponencial:\", exp)\n",
        "\n",
        "log = np.log(array1)\n",
        "print(\"Logaritmo:\", log)\n"
      ]
    },
    {
      "cell_type": "markdown",
      "metadata": {
        "id": "K-q3BywhykTW"
      },
      "source": [
        "### 2.5 Indexação e Fatiamento\n",
        "\n",
        "Arrays NumPy podem ser indexados e fatiados de forma similar às listas."
      ]
    },
    {
      "cell_type": "code",
      "execution_count": 187,
      "metadata": {
        "id": "gHu3Xdg-ymMO"
      },
      "outputs": [
        {
          "name": "stdout",
          "output_type": "stream",
          "text": [
            "Primeiro elemento do array1: 1\n",
            "Último elemento do array1: 5\n",
            "Elementos do array1 do índice 1 ao 3: [2 3 4]\n",
            "Primeira linha do array2:\n",
            " [1 2 3]\n",
            "Segunda coluna do array2:\n",
            " [2 5]\n"
          ]
        }
      ],
      "source": [
        "# Indexação\n",
        "print(\"Primeiro elemento do array1:\", array1[0])\n",
        "print(\"Último elemento do array1:\", array1[-1])\n",
        "\n",
        "# Fatiamento\n",
        "print(\"Elementos do array1 do índice 1 ao 3:\", array1[1:4])\n",
        "\n",
        "# Fatiamento de arrays bidimensionais\n",
        "print(\"Primeira linha do array2:\\n\", array2[0, :])\n",
        "print(\"Segunda coluna do array2:\\n\", array2[:, 1])\n"
      ]
    },
    {
      "cell_type": "markdown",
      "metadata": {
        "id": "vope5WJYy1HG"
      },
      "source": [
        "### 2.6 Alterando a Forma dos Arrays\n",
        "NumPy permite alterar a forma dos arrays sem alterar os dados."
      ]
    },
    {
      "cell_type": "code",
      "execution_count": 188,
      "metadata": {
        "id": "q4kGjwmSy0t-"
      },
      "outputs": [
        {
          "name": "stdout",
          "output_type": "stream",
          "text": [
            "Array2 reshaped para (3, 2):\n",
            " [[1 2]\n",
            " [3 4]\n",
            " [5 6]]\n",
            "Array2 flatten:\n",
            " [1 2 3 4 5 6]\n"
          ]
        }
      ],
      "source": [
        "# Redimensionando arrays\n",
        "array_reshaped = array2.reshape((3, 2))\n",
        "print(\"Array2 reshaped para (3, 2):\\n\", array_reshaped)\n",
        "\n",
        "# Flatten\n",
        "array_flat = array2.flatten()\n",
        "print(\"Array2 flatten:\\n\", array_flat)\n"
      ]
    },
    {
      "cell_type": "markdown",
      "metadata": {
        "id": "jgUscla8zmeW"
      },
      "source": [
        "## Desafio de Implementação de Uso de NumPy\n",
        "\n",
        "Neste desafio, você usará a biblioteca NumPy para realizar operações matemáticas e manipulações de arrays. Você precisa completar as tarefas abaixo usando NumPy.\n",
        "\n",
        "## Tarefas\n",
        "\n",
        "1. **Criar Arrays**\n",
        "    - Crie um array unidimensional (`array1`) contendo os números de 0 a 9.\n",
        "    - Crie um array bidimensional (`array2`) de tamanho 3x3 contendo números aleatórios entre 0 e 1.\n",
        "\n",
        "2. **Operações Matemáticas**\n",
        "    - Calcule a soma de todos os elementos de `array1`.\n",
        "    - Calcule a média dos elementos de `array2`.\n",
        "    - Calcule a matriz transposta de `array2`.\n",
        "\n",
        "3. **Manipulação de Arrays**\n",
        "    - Redimensione `array1` para um array bidimensional de tamanho 2x5 (`array1_reshaped`).\n",
        "    - Extraia a segunda coluna de `array2`.\n",
        "\n",
        "4. **Operações Avançadas**\n",
        "    - Crie uma máscara booleana para `array1` onde os valores são maiores que 5.\n",
        "    - Use a máscara para filtrar os elementos de `array1` que são maiores que 5.\n",
        "    - Calcule o produto dot (produto escalar) de `array1_reshaped` com sua transposta.\n",
        "\n",
        "### Instruções\n",
        "\n",
        "Preencha o código abaixo para completar cada tarefa. Use as funções e métodos do NumPy para realizar as operações necessárias."
      ]
    },
    {
      "cell_type": "code",
      "execution_count": 189,
      "metadata": {
        "id": "QWuyHgzkzpAI"
      },
      "outputs": [
        {
          "name": "stdout",
          "output_type": "stream",
          "text": [
            "O array1 é [0 1 2 3 4 5 6 7 8 9].\n",
            "\n",
            "O array2 é \n",
            "[[0.29763517 0.09998489 0.0534853 ]\n",
            " [0.9585415  0.84714314 0.35490519]\n",
            " [0.95680089 0.6767699  0.48252095]]\n",
            "\n",
            "A somo dos elementos de array1 é 45.\n",
            "\n",
            "A média dos elementos do array2 é 0.52531\n",
            "\n",
            "A matriz transposta de array2 é \n",
            "[[0.29763517 0.9585415  0.95680089]\n",
            " [0.09998489 0.84714314 0.6767699 ]\n",
            " [0.0534853  0.35490519 0.48252095]]\n",
            "\n",
            "O redimensionamento do array1 para 2x5 é \n",
            "[[0 1 2 3 4]\n",
            " [5 6 7 8 9]]\n",
            "\n",
            "A segunda coluna do array2 é \n",
            "[0.09998489 0.84714314 0.6767699 ]\n",
            "\n",
            "A máscara booleana do array1 onde os valores são maiores que 5 é [False False False False False False  True  True  True  True].\n",
            "\n",
            "Os valores do array1 maiores do que 5 são [6 7 8 9].\n",
            "\n",
            "O produto de array1_reshaped com sua transposta é \n",
            "[[ 30  80]\n",
            " [ 80 255]]\n"
          ]
        }
      ],
      "source": [
        "import numpy as np\n",
        "\n",
        "\n",
        "# 1. Criar Arrays\n",
        "# Crie um array unidimensional contendo os números de 0 a 9\n",
        "array1 = np.arange(0,10)\n",
        "print(f\"O array1 é {array1}.\")\n",
        "\n",
        "# Crie um array bidimensional de tamanho 3x3 contendo números aleatórios entre 0 e 1\n",
        "array2 = np.random.rand(3,3)\n",
        "print(f\"\\nO array2 é \\n{array2}\")\n",
        "\n",
        "# 2. Operações Matemáticas\n",
        "# Calcule a soma de todos os elementos de array1\n",
        "print(f\"\\nA somo dos elementos de array1 é {sum(array1)}.\")\n",
        "\n",
        "# Calcule a média dos elementos de array2\n",
        "print(f\"\\nA média dos elementos do array2 é {round(np.mean(array2), 5)}\")\n",
        "\n",
        "# Calcule a matriz transposta de array2\n",
        "print(f\"\\nA matriz transposta de array2 é \\n{array2.T}\")\n",
        "\n",
        "# 3. Manipulação de Arrays\n",
        "# Redimensione array1 para um array bidimensional de tamanho 2x5\n",
        "array1_reshaped = array1.reshape(2,5)\n",
        "print(f\"\\nO redimensionamento do array1 para 2x5 é \\n{array1_reshaped}\")\n",
        "\n",
        "# Extraia a segunda coluna de array2\n",
        "print(f\"\\nA segunda coluna do array2 é \\n{array2[:,1]}\")\n",
        "\n",
        "# 4. Operações Avançadas\n",
        "# Crie uma máscara booleana para array1 onde os valores são maiores que 5\n",
        "array1_mask = array1 > 5\n",
        "print(f\"\\nA máscara booleana do array1 onde os valores são maiores que 5 é {array1_mask}.\")\n",
        "\n",
        "# Use a máscara para filtrar os elementos de array1 que são maiores que 5\n",
        "print(f\"\\nOs valores do array1 maiores do que 5 são {array1[array1_mask]}.\")\n",
        "\n",
        "# Calcule o produto dot (produto escalar) de array1_reshaped com sua transposta\n",
        "array_dot = array1_reshaped @ array1_reshaped.T\n",
        "print(f\"\\nO produto de array1_reshaped com sua transposta é \\n{array_dot}\")\n"
      ]
    },
    {
      "cell_type": "markdown",
      "metadata": {
        "id": "v1LstBurtMgF"
      },
      "source": [
        "<a name=\"section3\"></a>\n",
        "## 3. Pandas: Manipulação de Dados\n",
        "\n",
        "Pandas é uma biblioteca poderosa para análise e manipulação de dados. Ela fornece estruturas de dados flexíveis, como DataFrames, que facilitam o trabalho com dados estruturados"
      ]
    },
    {
      "cell_type": "markdown",
      "metadata": {
        "id": "iaOc6HzitUsU"
      },
      "source": [
        "### 3.1 Criando DataFrames"
      ]
    },
    {
      "cell_type": "code",
      "execution_count": 190,
      "metadata": {
        "id": "rHE1miI5tU_N"
      },
      "outputs": [],
      "source": [
        "import pandas as pd"
      ]
    },
    {
      "cell_type": "code",
      "execution_count": 191,
      "metadata": {
        "id": "0uquYmqXvb5d"
      },
      "outputs": [
        {
          "name": "stdout",
          "output_type": "stream",
          "text": [
            "    Nome  Idade          Cidade\n",
            "0    Ana     23       São Paulo\n",
            "1   João     34  Rio de Janeiro\n",
            "2  Maria     29  Belo Horizonte\n"
          ]
        }
      ],
      "source": [
        "# Criando um DataFrame\n",
        "data = {'Nome': ['Ana', 'João', 'Maria'],\n",
        "        'Idade': [23, 34, 29],\n",
        "        'Cidade': ['São Paulo', 'Rio de Janeiro', 'Belo Horizonte']}\n",
        "df = pd.DataFrame(data)\n",
        "print(df)\n"
      ]
    },
    {
      "cell_type": "markdown",
      "metadata": {
        "id": "FbwhGA02tVYc"
      },
      "source": [
        "### 3.2 Operações com DataFrames"
      ]
    },
    {
      "cell_type": "code",
      "execution_count": 192,
      "metadata": {
        "id": "IJovOv1FtVvU"
      },
      "outputs": [
        {
          "name": "stdout",
          "output_type": "stream",
          "text": [
            "Idades: 0    23\n",
            "1    34\n",
            "2    29\n",
            "Name: Idade, dtype: int64\n",
            "Pessoas com idade maior que 25:     Nome  Idade          Cidade\n",
            "1   João     34  Rio de Janeiro\n",
            "2  Maria     29  Belo Horizonte\n",
            "Estatísticas:            Idade\n",
            "count   3.000000\n",
            "mean   28.666667\n",
            "std     5.507571\n",
            "min    23.000000\n",
            "25%    26.000000\n",
            "50%    29.000000\n",
            "75%    31.500000\n",
            "max    34.000000\n"
          ]
        }
      ],
      "source": [
        "# Selecionando colunas\n",
        "print(\"Idades:\", df['Idade'])\n",
        "\n",
        "# Filtrando linhas\n",
        "print(\"Pessoas com idade maior que 25:\", df[df['Idade'] > 25])\n",
        "\n",
        "# Estatísticas descritivas\n",
        "print(\"Estatísticas:\", df.describe())\n"
      ]
    },
    {
      "cell_type": "markdown",
      "metadata": {
        "id": "_hBPKUxO0lMY"
      },
      "source": [
        "## Desafio 2: Uso de Pandas\n",
        "**Problema**\n",
        "\n",
        "Você recebeu um arquivo CSV contendo informações sobre as vendas de uma loja. Sua tarefa é usar a biblioteca Pandas para realizar algumas análises e operações nos dados.\n",
        "\n",
        "Requisitos\n",
        "\n",
        "1. **Carregar o arquivo CSV:**\n",
        "\n",
        "O arquivo se chama vendas.csv e contém as colunas: Data, Produto, Vendas, Custo.\n",
        "\n",
        "2. **Análises e Operações**:\n",
        "\n",
        "Carregar os dados do CSV em um DataFrame.\n",
        "Exibir as 5 primeiras linhas do DataFrame.\n",
        "Calcular o lucro para cada venda (Lucro = Vendas - Custo) e adicionar uma nova coluna Lucro ao DataFrame.\n",
        "Calcular o total de vendas e o total de lucro por produto.\n",
        "Filtrar e exibir apenas as vendas que tiveram lucro maior que 50.\n",
        "Criar um gráfico de barras mostrando o total de vendas por produto.\n",
        "\n",
        "```python\n",
        "Output exemplo\n",
        "\n",
        "Data,Produto,Vendas,Custo\n",
        "\n",
        "2024-01-01,Produto A,100,70\n",
        "2024-01-02,Produto B,150,90\n",
        "2024-01-03,Produto A,200,100\n",
        "2024-01-04,Produto C,50,30\n",
        "2024-01-05,Produto B,120,60\n",
        "```\n",
        "\n",
        "Link para baixar o [arquivo CSV de vendas](https://drive.google.com/file/d/1K8gtX2kQgBy8dTMpte-HKXuqFNRMgtU8/view?usp=sharing)\n",
        "\n"
      ]
    },
    {
      "cell_type": "markdown",
      "metadata": {
        "id": "jMwP5Qfi-CxZ"
      },
      "source": [
        "\n",
        "---\n",
        "\n",
        "Passo a Passo para Gerar Relatórios em Pandas\n",
        "#### 1. Importar a Biblioteca Pandas\n",
        "Primeiro, precisamos importar a biblioteca Pandas. Se você estiver usando o Google Colab, ela já vem pré-instalada.\n"
      ]
    },
    {
      "cell_type": "code",
      "execution_count": 193,
      "metadata": {
        "id": "f6I-6pn9-r0S"
      },
      "outputs": [],
      "source": [
        "import pandas as pd"
      ]
    },
    {
      "cell_type": "markdown",
      "metadata": {
        "id": "AxuhQe75_EtZ"
      },
      "source": [
        "2. Carregar os Dados\n",
        "Vamos supor que temos um arquivo CSV chamado vendas.csv com as seguintes colunas: Data, Produto, Vendas, Custo."
      ]
    },
    {
      "cell_type": "code",
      "execution_count": 194,
      "metadata": {
        "id": "PAfgk67y-BT5"
      },
      "outputs": [],
      "source": [
        "# Carregar os dados do CSV\n",
        "df = pd.read_csv('vendas.csv')\n"
      ]
    },
    {
      "cell_type": "markdown",
      "metadata": {
        "id": "oUt1qGd__NYR"
      },
      "source": [
        "#### 3. Exibir as Primeiras Linhas do DataFrame\n",
        "Após carregar os dados, é uma boa prática visualizar as primeiras linhas para entender a estrutura do DataFrame."
      ]
    },
    {
      "cell_type": "code",
      "execution_count": 195,
      "metadata": {
        "id": "pzdmPy_A_PxB"
      },
      "outputs": [
        {
          "name": "stdout",
          "output_type": "stream",
          "text": [
            "         Data    Produto  Vendas   Custo\n",
            "0  2024-04-12  Produto D  335.46  208.75\n",
            "1  2024-12-14  Produto C  356.32  205.37\n",
            "2  2024-09-27  Produto C  288.92  175.49\n",
            "3  2024-04-16  Produto A  251.50  174.57\n",
            "4  2024-03-12  Produto C  298.80  193.94\n"
          ]
        }
      ],
      "source": [
        "print(df.head())\n"
      ]
    },
    {
      "cell_type": "markdown",
      "metadata": {
        "id": "QMwRE252_Q_x"
      },
      "source": [
        "#### 4. Entender a Estrutura dos Dados\n",
        "Para entender melhor a estrutura dos dados, você pode usar os métodos info() e describe()."
      ]
    },
    {
      "cell_type": "code",
      "execution_count": 196,
      "metadata": {
        "id": "das08p4c_TUh"
      },
      "outputs": [
        {
          "name": "stdout",
          "output_type": "stream",
          "text": [
            "<class 'pandas.core.frame.DataFrame'>\n",
            "RangeIndex: 100 entries, 0 to 99\n",
            "Data columns (total 4 columns):\n",
            " #   Column   Non-Null Count  Dtype  \n",
            "---  ------   --------------  -----  \n",
            " 0   Data     100 non-null    object \n",
            " 1   Produto  100 non-null    object \n",
            " 2   Vendas   100 non-null    float64\n",
            " 3   Custo    100 non-null    float64\n",
            "dtypes: float64(2), object(2)\n",
            "memory usage: 3.3+ KB\n",
            "None\n",
            "           Vendas       Custo\n",
            "count  100.000000  100.000000\n",
            "mean   305.845800  205.155400\n",
            "std    122.334051   87.614924\n",
            "min     58.130000   35.290000\n",
            "25%    207.380000  136.605000\n",
            "50%    300.015000  208.555000\n",
            "75%    412.127500  258.635000\n",
            "max    498.310000  420.650000\n"
          ]
        }
      ],
      "source": [
        "print(df.info())\n",
        "print(df.describe())\n"
      ]
    },
    {
      "cell_type": "markdown",
      "metadata": {
        "id": "k4nxwrns_U4Z"
      },
      "source": [
        "#### 5. Manipular os Dados\n",
        "Agora vamos fazer algumas manipulações comuns, como adicionar colunas, filtrar dados, agrupar dados, etc.\n",
        "\n",
        "**Adicionar Coluna de Lucro**\n",
        "\n",
        "Vamos adicionar uma coluna de lucro, que é a diferença entre Vendas e Custo."
      ]
    },
    {
      "cell_type": "code",
      "execution_count": 197,
      "metadata": {
        "id": "aHtO2ZZG_XvZ"
      },
      "outputs": [
        {
          "name": "stdout",
          "output_type": "stream",
          "text": [
            "         Data    Produto  Vendas   Custo   Lucro\n",
            "0  2024-04-12  Produto D  335.46  208.75  126.71\n",
            "1  2024-12-14  Produto C  356.32  205.37  150.95\n",
            "2  2024-09-27  Produto C  288.92  175.49  113.43\n",
            "3  2024-04-16  Produto A  251.50  174.57   76.93\n",
            "4  2024-03-12  Produto C  298.80  193.94  104.86\n"
          ]
        }
      ],
      "source": [
        "df['Lucro'] = df['Vendas'] - df['Custo']\n",
        "print(df.head())\n"
      ]
    },
    {
      "cell_type": "markdown",
      "metadata": {
        "id": "t_HYvTav_aw5"
      },
      "source": [
        "**Filtrar Dados**\n",
        "\n",
        "Vamos filtrar as vendas que tiveram lucro maior que 50."
      ]
    },
    {
      "cell_type": "code",
      "execution_count": 198,
      "metadata": {
        "id": "BIAhoPdJ_bai"
      },
      "outputs": [
        {
          "name": "stdout",
          "output_type": "stream",
          "text": [
            "          Data    Produto  Vendas   Custo   Lucro\n",
            "0   2024-04-12  Produto D  335.46  208.75  126.71\n",
            "1   2024-12-14  Produto C  356.32  205.37  150.95\n",
            "2   2024-09-27  Produto C  288.92  175.49  113.43\n",
            "3   2024-04-16  Produto A  251.50  174.57   76.93\n",
            "4   2024-03-12  Produto C  298.80  193.94  104.86\n",
            "..         ...        ...     ...     ...     ...\n",
            "92  2024-01-15  Produto A  447.57  306.97  140.60\n",
            "93  2024-10-27  Produto C  386.47  293.68   92.79\n",
            "94  2024-03-05  Produto A  478.88  248.65  230.23\n",
            "97  2024-01-09  Produto D  307.53  185.86  121.67\n",
            "98  2024-12-09  Produto E  491.15  248.58  242.57\n",
            "\n",
            "[78 rows x 5 columns]\n"
          ]
        }
      ],
      "source": [
        "lucro_maior_50 = df[df['Lucro'] > 50]\n",
        "print(lucro_maior_50)\n"
      ]
    },
    {
      "cell_type": "markdown",
      "metadata": {
        "id": "nA7jotxq_c05"
      },
      "source": [
        "**Agrupar Dados**\n",
        "\n",
        "Vamos calcular o total de vendas e lucro por produto."
      ]
    },
    {
      "cell_type": "code",
      "execution_count": 199,
      "metadata": {
        "id": "rWbZhJ16_fQZ"
      },
      "outputs": [
        {
          "name": "stdout",
          "output_type": "stream",
          "text": [
            "            Vendas    Lucro\n",
            "Produto                    \n",
            "Produto A  8139.46  2701.36\n",
            "Produto B  4122.56  1220.78\n",
            "Produto C  6992.01  2281.15\n",
            "Produto D  6714.38  2227.54\n",
            "Produto E  4616.17  1638.21\n"
          ]
        }
      ],
      "source": [
        "relatorio_produtos = df.groupby('Produto')[['Vendas', 'Lucro']].sum()\n",
        "print(relatorio_produtos)\n"
      ]
    },
    {
      "cell_type": "markdown",
      "metadata": {
        "id": "uvCMf8o2_j8p"
      },
      "source": [
        "#### 6. Gerar Relatórios\n",
        "Com os dados manipulados, podemos criar relatórios. Vamos gerar um relatório simples de vendas totais por produto e salvar como um novo CSV.\n",
        "\n",
        "**Relatório de Vendas por Produto**"
      ]
    },
    {
      "cell_type": "code",
      "execution_count": 200,
      "metadata": {
        "id": "sBZS4DbD_i_x"
      },
      "outputs": [
        {
          "name": "stdout",
          "output_type": "stream",
          "text": [
            "     Produto  Total de Vendas\n",
            "0  Produto A          8139.46\n",
            "1  Produto B          4122.56\n",
            "2  Produto C          6992.01\n",
            "3  Produto D          6714.38\n",
            "4  Produto E          4616.17\n"
          ]
        }
      ],
      "source": [
        "relatorio_vendas = df.groupby('Produto')['Vendas'].sum().reset_index()\n",
        "relatorio_vendas.columns = ['Produto', 'Total de Vendas']\n",
        "print(relatorio_vendas)\n",
        "\n",
        "# Salvar o relatório em um novo arquivo CSV\n",
        "relatorio_vendas.to_csv('relatorio_vendas_por_produto.csv', index=False)\n"
      ]
    },
    {
      "cell_type": "markdown",
      "metadata": {
        "id": "Kh36gKQAAI2R"
      },
      "source": [
        "#### 7. Relatórios com Estatísticas\n",
        "Podemos calcular algumas estatísticas básicas e adicionar ao relatório."
      ]
    },
    {
      "cell_type": "code",
      "execution_count": 201,
      "metadata": {
        "id": "_ZEXwMvHAJjh"
      },
      "outputs": [
        {
          "name": "stdout",
          "output_type": "stream",
          "text": [
            "           Vendas       Lucro\n",
            "count  100.000000  100.000000\n",
            "mean   305.845800  100.690400\n",
            "std    122.334051   57.010631\n",
            "min     58.130000   10.630000\n",
            "25%    207.380000   59.295000\n",
            "50%    300.015000   91.005000\n",
            "75%    412.127500  145.775000\n",
            "max    498.310000  242.570000\n"
          ]
        }
      ],
      "source": [
        "estatisticas_vendas = df.describe()[['Vendas', 'Lucro']]\n",
        "print(estatisticas_vendas)\n",
        "\n",
        "# Salvar as estatísticas em um novo arquivo CSV\n",
        "estatisticas_vendas.to_csv('estatisticas_vendas.csv')\n"
      ]
    },
    {
      "cell_type": "markdown",
      "metadata": {
        "id": "XPDb5NrMup71"
      },
      "source": [
        "<a name=\"section4\"></a>\n",
        "\n",
        "## 4. Matplotlib: Visualização de Dados\n",
        "\n",
        "Matplotlib é uma biblioteca usada para criar visualizações estáticas, animadas e interativas em Python."
      ]
    },
    {
      "cell_type": "markdown",
      "metadata": {
        "id": "eySPEVgeu79f"
      },
      "source": [
        "### 4.1 Criando um Gráfico Simples"
      ]
    },
    {
      "cell_type": "code",
      "execution_count": 202,
      "metadata": {
        "id": "hMoiCAl8uu6m"
      },
      "outputs": [],
      "source": [
        "import matplotlib.pyplot as plt"
      ]
    },
    {
      "cell_type": "markdown",
      "metadata": {
        "id": "_bu5j7ys_vQI"
      },
      "source": [
        "1. Plotar os dados do relatório de Vendas por Produto da Seção 3 Pandas"
      ]
    },
    {
      "cell_type": "code",
      "execution_count": 203,
      "metadata": {
        "id": "dk0a5ENt_xQq"
      },
      "outputs": [
        {
          "data": {
            "image/png": "[encoded data removed]",
            "text/plain": [
              "<Figure size 1000x600 with 1 Axes>"
            ]
          },
          "metadata": {},
          "output_type": "display_data"
        }
      ],
      "source": [
        "# Gráfico de barras para total de vendas por produto\n",
        "plt.figure(figsize=(10, 6))\n",
        "plt.bar(relatorio_vendas['Produto'], relatorio_vendas['Total de Vendas'], color='skyblue')\n",
        "plt.xlabel('Produto')\n",
        "plt.ylabel('Total de Vendas')\n",
        "plt.title('Total de Vendas por Produto')\n",
        "plt.show()\n"
      ]
    },
    {
      "cell_type": "markdown",
      "metadata": {
        "id": "i3ToMlGPBNf5"
      },
      "source": [
        "2. Gráfico de Linha\n",
        "Um gráfico de linha é útil para mostrar tendências ao longo do tempo ou alguma sequência contínua de dados."
      ]
    },
    {
      "cell_type": "code",
      "execution_count": 204,
      "metadata": {
        "id": "y8h4qUB3BO26"
      },
      "outputs": [
        {
          "data": {
            "image/png": "[encoded data removed]",
            "text/plain": [
              "<Figure size 800x500 with 1 Axes>"
            ]
          },
          "metadata": {},
          "output_type": "display_data"
        }
      ],
      "source": [
        "# Dados de exemplo\n",
        "x = [1, 2, 3, 4, 5]\n",
        "y = [2, 3, 5, 7, 11]\n",
        "\n",
        "# Criar o gráfico de linha\n",
        "plt.figure(figsize=(8, 5))\n",
        "plt.plot(x, y, marker='o', linestyle='-', color='b', label='Série 1')\n",
        "plt.xlabel('Eixo X')\n",
        "plt.ylabel('Eixo Y')\n",
        "plt.title('Gráfico de Linha Simples')\n",
        "#plt.legend()\n",
        "#plt.grid(True)\n",
        "plt.show()\n"
      ]
    },
    {
      "cell_type": "markdown",
      "metadata": {
        "id": "0WMC03CyBPK6"
      },
      "source": [
        "3. Gráfico de Barras\n",
        "Um gráfico de barras é útil para comparar diferentes categorias ou grupos de dados."
      ]
    },
    {
      "cell_type": "code",
      "execution_count": 205,
      "metadata": {
        "id": "3EldOViBBVdx"
      },
      "outputs": [
        {
          "data": {
            "image/png": "[encoded data removed]",
            "text/plain": [
              "<Figure size 800x500 with 1 Axes>"
            ]
          },
          "metadata": {},
          "output_type": "display_data"
        }
      ],
      "source": [
        "# Dados de exemplo\n",
        "categorias = ['A', 'B', 'C', 'D']\n",
        "valores = [5, 7, 3, 8]\n",
        "\n",
        "# Criar o gráfico de barras\n",
        "plt.figure(figsize=(8, 5))\n",
        "plt.bar(categorias, valores, color='skyblue')\n",
        "plt.xlabel('Categorias')\n",
        "plt.ylabel('Valores')\n",
        "plt.title('Gráfico de Barras Simples')\n",
        "plt.show()\n"
      ]
    },
    {
      "cell_type": "markdown",
      "metadata": {
        "id": "lhHkDG7rBWO5"
      },
      "source": [
        "4. Gráfico de Dispersão (Scatter Plot)\n",
        "Um gráfico de dispersão é útil para visualizar a relação entre duas variáveis."
      ]
    },
    {
      "cell_type": "code",
      "execution_count": 206,
      "metadata": {
        "id": "30YheYtEBYz5"
      },
      "outputs": [
        {
          "data": {
            "image/png": "[encoded data removed]",
            "text/plain": [
              "<Figure size 800x500 with 1 Axes>"
            ]
          },
          "metadata": {},
          "output_type": "display_data"
        }
      ],
      "source": [
        "# Dados de exemplo\n",
        "x = [5, 7, 8, 7, 2, 17, 2, 9, 4, 11]\n",
        "y = [99, 86, 87, 88, 100, 86, 103, 87, 94, 78]\n",
        "\n",
        "# Criar o gráfico de dispersão\n",
        "plt.figure(figsize=(8, 5))\n",
        "plt.scatter(x, y, color='red', label='Dados de Dispersão')\n",
        "plt.xlabel('Eixo X')\n",
        "plt.ylabel('Eixo Y')\n",
        "plt.title('Gráfico de Dispersão Simples')\n",
        "plt.legend()\n",
        "plt.show()\n"
      ]
    },
    {
      "cell_type": "markdown",
      "metadata": {
        "id": "V6htq9pFu4P3"
      },
      "source": [
        "<a name=\"section5\"></a>\n",
        "\n",
        "## 5. Scikit-learn: Introdução ao Machine Learning\n",
        "Por enquanto usaremos modelos já existentes.\n",
        "\n",
        "Scikit-learn é uma biblioteca para aprendizado de máquina em Python. Ela fornece ferramentas simples e eficientes para análise de dados e modelagem preditiva."
      ]
    },
    {
      "cell_type": "markdown",
      "metadata": {
        "id": "3mGLtaSGvFjo"
      },
      "source": [
        "### 5.1 Exemplo de Regressão Linear"
      ]
    },
    {
      "cell_type": "code",
      "execution_count": 207,
      "metadata": {
        "id": "dJck-xslvVG9"
      },
      "outputs": [],
      "source": [
        "from sklearn.linear_model import LinearRegression\n",
        "import numpy as np"
      ]
    },
    {
      "cell_type": "code",
      "execution_count": 208,
      "metadata": {
        "id": "Vedc5DtIvFHA"
      },
      "outputs": [
        {
          "name": "stdout",
          "output_type": "stream",
          "text": [
            "Previsões: [ 1.2  3.4  5.6  7.8 10. ]\n"
          ]
        },
        {
          "data": {
            "image/png": "[encoded data removed]",
            "text/plain": [
              "<Figure size 640x480 with 1 Axes>"
            ]
          },
          "metadata": {},
          "output_type": "display_data"
        }
      ],
      "source": [
        "# Dados de exemplo\n",
        "X = np.array([[1], [2], [3], [4], [5]])\n",
        "y = np.array([2, 3, 5, 7, 11])\n",
        "\n",
        "# Criando o modelo\n",
        "model = LinearRegression()\n",
        "model.fit(X, y)\n",
        "\n",
        "# Fazendo previsões\n",
        "y_pred = model.predict(X)\n",
        "print(\"Previsões:\", y_pred)\n",
        "\n",
        "# Visualizando a regressão\n",
        "plt.scatter(X, y, color='black')\n",
        "plt.plot(X, y_pred, color='blue', linewidth=2)\n",
        "plt.xlabel('x')\n",
        "plt.ylabel('y')\n",
        "plt.title('Regressão Linear')\n",
        "plt.show()\n"
      ]
    },
    {
      "cell_type": "markdown",
      "metadata": {
        "id": "4rqpkekSvYhF"
      },
      "source": [
        "Este notebook é uma introdução básica para começar com Python em Data Science. Pratique com seus próprios conjuntos de dados e explore mais funções das bibliotecas mencionadas para se aprofundar na análise de dados."
      ]
    },
    {
      "cell_type": "code",
      "execution_count": 209,
      "metadata": {
        "id": "_ymZfdxyCpQq"
      },
      "outputs": [],
      "source": [
        "import numpy as np\n",
        "import pandas as pd\n",
        "import matplotlib.pyplot as plt\n",
        "from sklearn.model_selection import train_test_split\n",
        "from sklearn.linear_model import LinearRegression\n",
        "from sklearn.metrics import mean_squared_error, r2_score"
      ]
    },
    {
      "cell_type": "markdown",
      "metadata": {
        "id": "QtQoGYW-CXAy"
      },
      "source": [
        "Passo 2: Criar um Conjunto de Dados Fictício"
      ]
    },
    {
      "cell_type": "code",
      "execution_count": 210,
      "metadata": {
        "id": "yA-XD4nSCjpi"
      },
      "outputs": [
        {
          "name": "stdout",
          "output_type": "stream",
          "text": [
            "          Area  Quartos  Idade          Preco\n",
            "0  1649.014246        1     21  137848.452680\n",
            "1  1458.520710        5      2  155515.278921\n",
            "2  1694.306561        1     15  129545.894322\n",
            "3  1956.908957        3     28  137127.265284\n",
            "4  1429.753988        2      8  133255.672691\n"
          ]
        }
      ],
      "source": [
        "# Gerar dados fictícios\n",
        "np.random.seed(42)\n",
        "num_samples = 100 #numero de amostras\n",
        "\n",
        "area = np.random.normal(1500, 300, num_samples)\n",
        "quartos = np.random.randint(1, 6, num_samples)\n",
        "idade = np.random.randint(0, 30, num_samples)\n",
        "preco = 50000 + (area * 50) + (quartos * 3000) - (idade * 100) + np.random.normal(0, 10000, num_samples)\n",
        "\n",
        "# Criar DataFrame\n",
        "df = pd.DataFrame({'Area': area, 'Quartos': quartos, 'Idade': idade, 'Preco': preco})\n",
        "print(df.head())\n"
      ]
    },
    {
      "cell_type": "markdown",
      "metadata": {
        "id": "W754NOr-Cw-T"
      },
      "source": [
        "Passo 3: Visualizar os Dados"
      ]
    },
    {
      "cell_type": "code",
      "execution_count": 211,
      "metadata": {
        "id": "pLNRtPBeCsQj"
      },
      "outputs": [
        {
          "data": {
            "image/png": "[encoded data removed]",
            "text/plain": [
              "<Figure size 640x480 with 1 Axes>"
            ]
          },
          "metadata": {},
          "output_type": "display_data"
        }
      ],
      "source": [
        "# Visualizar a relação entre 'Area' e 'Preco'\n",
        "plt.scatter(df['Area'], df['Preco'])\n",
        "plt.xlabel('Área (sq ft)')\n",
        "plt.ylabel('Preço ($)')\n",
        "plt.title('Área vs Preço')\n",
        "plt.show()\n"
      ]
    },
    {
      "cell_type": "markdown",
      "metadata": {
        "id": "XGBde3GvCzJi"
      },
      "source": [
        "Passo 4: Dividir os Dados em Conjuntos de Treinamento e Teste"
      ]
    },
    {
      "cell_type": "code",
      "execution_count": 212,
      "metadata": {
        "id": "TebTWc65C01A"
      },
      "outputs": [],
      "source": [
        "# Dividir os dados em conjuntos de treinamento e teste\n",
        "X = df[['Area', 'Quartos', 'Idade']]\n",
        "y = df['Preco']\n",
        "\n",
        "X_train, X_test, y_train, y_test = train_test_split(X, y, test_size=0.2, random_state=42)\n"
      ]
    },
    {
      "cell_type": "markdown",
      "metadata": {
        "id": "gSWcvNnTC2uv"
      },
      "source": [
        "Passo 5: Treinar o Modelo de Regressão Linear"
      ]
    },
    {
      "cell_type": "code",
      "execution_count": 213,
      "metadata": {
        "id": "S2d3EDNnC7UA"
      },
      "outputs": [
        {
          "data": {
            "text/html": [
              "<style>#sk-container-id-3 {\n",
              "  /* Definition of color scheme common for light and dark mode */\n",
              "  --sklearn-color-text: black;\n",
              "  --sklearn-color-line: gray;\n",
              "  /* Definition of color scheme for unfitted estimators */\n",
              "  --sklearn-color-unfitted-level-0: #fff5e6;\n",
              "  --sklearn-color-unfitted-level-1: #f6e4d2;\n",
              "  --sklearn-color-unfitted-level-2: #ffe0b3;\n",
              "  --sklearn-color-unfitted-level-3: chocolate;\n",
              "  /* Definition of color scheme for fitted estimators */\n",
              "  --sklearn-color-fitted-level-0: #f0f8ff;\n",
              "  --sklearn-color-fitted-level-1: #d4ebff;\n",
              "  --sklearn-color-fitted-level-2: #b3dbfd;\n",
              "  --sklearn-color-fitted-level-3: cornflowerblue;\n",
              "\n",
              "  /* Specific color for light theme */\n",
              "  --sklearn-color-text-on-default-background: var(--sg-text-color, var(--theme-code-foreground, var(--jp-content-font-color1, black)));\n",
              "  --sklearn-color-background: var(--sg-background-color, var(--theme-background, var(--jp-layout-color0, white)));\n",
              "  --sklearn-color-border-box: var(--sg-text-color, var(--theme-code-foreground, var(--jp-content-font-color1, black)));\n",
              "  --sklearn-color-icon: #696969;\n",
              "\n",
              "  @media (prefers-color-scheme: dark) {\n",
              "    /* Redefinition of color scheme for dark theme */\n",
              "    --sklearn-color-text-on-default-background: var(--sg-text-color, var(--theme-code-foreground, var(--jp-content-font-color1, white)));\n",
              "    --sklearn-color-background: var(--sg-background-color, var(--theme-background, var(--jp-layout-color0, #111)));\n",
              "    --sklearn-color-border-box: var(--sg-text-color, var(--theme-code-foreground, var(--jp-content-font-color1, white)));\n",
              "    --sklearn-color-icon: #878787;\n",
              "  }\n",
              "}\n",
              "\n",
              "#sk-container-id-3 {\n",
              "  color: var(--sklearn-color-text);\n",
              "}\n",
              "\n",
              "#sk-container-id-3 pre {\n",
              "  padding: 0;\n",
              "}\n",
              "\n",
              "#sk-container-id-3 input.sk-hidden--visually {\n",
              "  border: 0;\n",
              "  clip: rect(1px 1px 1px 1px);\n",
              "  clip: rect(1px, 1px, 1px, 1px);\n",
              "  height: 1px;\n",
              "  margin: -1px;\n",
              "  overflow: hidden;\n",
              "  padding: 0;\n",
              "  position: absolute;\n",
              "  width: 1px;\n",
              "}\n",
              "\n",
              "#sk-container-id-3 div.sk-dashed-wrapped {\n",
              "  border: 1px dashed var(--sklearn-color-line);\n",
              "  margin: 0 0.4em 0.5em 0.4em;\n",
              "  box-sizing: border-box;\n",
              "  padding-bottom: 0.4em;\n",
              "  background-color: var(--sklearn-color-background);\n",
              "}\n",
              "\n",
              "#sk-container-id-3 div.sk-container {\n",
              "  /* jupyter's `normalize.less` sets `[hidden] { display: none; }`\n",
              "     but bootstrap.min.css set `[hidden] { display: none !important; }`\n",
              "     so we also need the `!important` here to be able to override the\n",
              "     default hidden behavior on the sphinx rendered scikit-learn.org.\n",
              "     See: https://github.com/scikit-learn/scikit-learn/issues/21755 */\n",
              "  display: inline-block !important;\n",
              "  position: relative;\n",
              "}\n",
              "\n",
              "#sk-container-id-3 div.sk-text-repr-fallback {\n",
              "  display: none;\n",
              "}\n",
              "\n",
              "div.sk-parallel-item,\n",
              "div.sk-serial,\n",
              "div.sk-item {\n",
              "  /* draw centered vertical line to link estimators */\n",
              "  background-image: linear-gradient(var(--sklearn-color-text-on-default-background), var(--sklearn-color-text-on-default-background));\n",
              "  background-size: 2px 100%;\n",
              "  background-repeat: no-repeat;\n",
              "  background-position: center center;\n",
              "}\n",
              "\n",
              "/* Parallel-specific style estimator block */\n",
              "\n",
              "#sk-container-id-3 div.sk-parallel-item::after {\n",
              "  content: \"\";\n",
              "  width: 100%;\n",
              "  border-bottom: 2px solid var(--sklearn-color-text-on-default-background);\n",
              "  flex-grow: 1;\n",
              "}\n",
              "\n",
              "#sk-container-id-3 div.sk-parallel {\n",
              "  display: flex;\n",
              "  align-items: stretch;\n",
              "  justify-content: center;\n",
              "  background-color: var(--sklearn-color-background);\n",
              "  position: relative;\n",
              "}\n",
              "\n",
              "#sk-container-id-3 div.sk-parallel-item {\n",
              "  display: flex;\n",
              "  flex-direction: column;\n",
              "}\n",
              "\n",
              "#sk-container-id-3 div.sk-parallel-item:first-child::after {\n",
              "  align-self: flex-end;\n",
              "  width: 50%;\n",
              "}\n",
              "\n",
              "#sk-container-id-3 div.sk-parallel-item:last-child::after {\n",
              "  align-self: flex-start;\n",
              "  width: 50%;\n",
              "}\n",
              "\n",
              "#sk-container-id-3 div.sk-parallel-item:only-child::after {\n",
              "  width: 0;\n",
              "}\n",
              "\n",
              "/* Serial-specific style estimator block */\n",
              "\n",
              "#sk-container-id-3 div.sk-serial {\n",
              "  display: flex;\n",
              "  flex-direction: column;\n",
              "  align-items: center;\n",
              "  background-color: var(--sklearn-color-background);\n",
              "  padding-right: 1em;\n",
              "  padding-left: 1em;\n",
              "}\n",
              "\n",
              "\n",
              "/* Toggleable style: style used for estimator/Pipeline/ColumnTransformer box that is\n",
              "clickable and can be expanded/collapsed.\n",
              "- Pipeline and ColumnTransformer use this feature and define the default style\n",
              "- Estimators will overwrite some part of the style using the `sk-estimator` class\n",
              "*/\n",
              "\n",
              "/* Pipeline and ColumnTransformer style (default) */\n",
              "\n",
              "#sk-container-id-3 div.sk-toggleable {\n",
              "  /* Default theme specific background. It is overwritten whether we have a\n",
              "  specific estimator or a Pipeline/ColumnTransformer */\n",
              "  background-color: var(--sklearn-color-background);\n",
              "}\n",
              "\n",
              "/* Toggleable label */\n",
              "#sk-container-id-3 label.sk-toggleable__label {\n",
              "  cursor: pointer;\n",
              "  display: block;\n",
              "  width: 100%;\n",
              "  margin-bottom: 0;\n",
              "  padding: 0.5em;\n",
              "  box-sizing: border-box;\n",
              "  text-align: center;\n",
              "}\n",
              "\n",
              "#sk-container-id-3 label.sk-toggleable__label-arrow:before {\n",
              "  /* Arrow on the left of the label */\n",
              "  content: \"▸\";\n",
              "  float: left;\n",
              "  margin-right: 0.25em;\n",
              "  color: var(--sklearn-color-icon);\n",
              "}\n",
              "\n",
              "#sk-container-id-3 label.sk-toggleable__label-arrow:hover:before {\n",
              "  color: var(--sklearn-color-text);\n",
              "}\n",
              "\n",
              "/* Toggleable content - dropdown */\n",
              "\n",
              "#sk-container-id-3 div.sk-toggleable__content {\n",
              "  max-height: 0;\n",
              "  max-width: 0;\n",
              "  overflow: hidden;\n",
              "  text-align: left;\n",
              "  /* unfitted */\n",
              "  background-color: var(--sklearn-color-unfitted-level-0);\n",
              "}\n",
              "\n",
              "#sk-container-id-3 div.sk-toggleable__content.fitted {\n",
              "  /* fitted */\n",
              "  background-color: var(--sklearn-color-fitted-level-0);\n",
              "}\n",
              "\n",
              "#sk-container-id-3 div.sk-toggleable__content pre {\n",
              "  margin: 0.2em;\n",
              "  border-radius: 0.25em;\n",
              "  color: var(--sklearn-color-text);\n",
              "  /* unfitted */\n",
              "  background-color: var(--sklearn-color-unfitted-level-0);\n",
              "}\n",
              "\n",
              "#sk-container-id-3 div.sk-toggleable__content.fitted pre {\n",
              "  /* unfitted */\n",
              "  background-color: var(--sklearn-color-fitted-level-0);\n",
              "}\n",
              "\n",
              "#sk-container-id-3 input.sk-toggleable__control:checked~div.sk-toggleable__content {\n",
              "  /* Expand drop-down */\n",
              "  max-height: 200px;\n",
              "  max-width: 100%;\n",
              "  overflow: auto;\n",
              "}\n",
              "\n",
              "#sk-container-id-3 input.sk-toggleable__control:checked~label.sk-toggleable__label-arrow:before {\n",
              "  content: \"▾\";\n",
              "}\n",
              "\n",
              "/* Pipeline/ColumnTransformer-specific style */\n",
              "\n",
              "#sk-container-id-3 div.sk-label input.sk-toggleable__control:checked~label.sk-toggleable__label {\n",
              "  color: var(--sklearn-color-text);\n",
              "  background-color: var(--sklearn-color-unfitted-level-2);\n",
              "}\n",
              "\n",
              "#sk-container-id-3 div.sk-label.fitted input.sk-toggleable__control:checked~label.sk-toggleable__label {\n",
              "  background-color: var(--sklearn-color-fitted-level-2);\n",
              "}\n",
              "\n",
              "/* Estimator-specific style */\n",
              "\n",
              "/* Colorize estimator box */\n",
              "#sk-container-id-3 div.sk-estimator input.sk-toggleable__control:checked~label.sk-toggleable__label {\n",
              "  /* unfitted */\n",
              "  background-color: var(--sklearn-color-unfitted-level-2);\n",
              "}\n",
              "\n",
              "#sk-container-id-3 div.sk-estimator.fitted input.sk-toggleable__control:checked~label.sk-toggleable__label {\n",
              "  /* fitted */\n",
              "  background-color: var(--sklearn-color-fitted-level-2);\n",
              "}\n",
              "\n",
              "#sk-container-id-3 div.sk-label label.sk-toggleable__label,\n",
              "#sk-container-id-3 div.sk-label label {\n",
              "  /* The background is the default theme color */\n",
              "  color: var(--sklearn-color-text-on-default-background);\n",
              "}\n",
              "\n",
              "/* On hover, darken the color of the background */\n",
              "#sk-container-id-3 div.sk-label:hover label.sk-toggleable__label {\n",
              "  color: var(--sklearn-color-text);\n",
              "  background-color: var(--sklearn-color-unfitted-level-2);\n",
              "}\n",
              "\n",
              "/* Label box, darken color on hover, fitted */\n",
              "#sk-container-id-3 div.sk-label.fitted:hover label.sk-toggleable__label.fitted {\n",
              "  color: var(--sklearn-color-text);\n",
              "  background-color: var(--sklearn-color-fitted-level-2);\n",
              "}\n",
              "\n",
              "/* Estimator label */\n",
              "\n",
              "#sk-container-id-3 div.sk-label label {\n",
              "  font-family: monospace;\n",
              "  font-weight: bold;\n",
              "  display: inline-block;\n",
              "  line-height: 1.2em;\n",
              "}\n",
              "\n",
              "#sk-container-id-3 div.sk-label-container {\n",
              "  text-align: center;\n",
              "}\n",
              "\n",
              "/* Estimator-specific */\n",
              "#sk-container-id-3 div.sk-estimator {\n",
              "  font-family: monospace;\n",
              "  border: 1px dotted var(--sklearn-color-border-box);\n",
              "  border-radius: 0.25em;\n",
              "  box-sizing: border-box;\n",
              "  margin-bottom: 0.5em;\n",
              "  /* unfitted */\n",
              "  background-color: var(--sklearn-color-unfitted-level-0);\n",
              "}\n",
              "\n",
              "#sk-container-id-3 div.sk-estimator.fitted {\n",
              "  /* fitted */\n",
              "  background-color: var(--sklearn-color-fitted-level-0);\n",
              "}\n",
              "\n",
              "/* on hover */\n",
              "#sk-container-id-3 div.sk-estimator:hover {\n",
              "  /* unfitted */\n",
              "  background-color: var(--sklearn-color-unfitted-level-2);\n",
              "}\n",
              "\n",
              "#sk-container-id-3 div.sk-estimator.fitted:hover {\n",
              "  /* fitted */\n",
              "  background-color: var(--sklearn-color-fitted-level-2);\n",
              "}\n",
              "\n",
              "/* Specification for estimator info (e.g. \"i\" and \"?\") */\n",
              "\n",
              "/* Common style for \"i\" and \"?\" */\n",
              "\n",
              ".sk-estimator-doc-link,\n",
              "a:link.sk-estimator-doc-link,\n",
              "a:visited.sk-estimator-doc-link {\n",
              "  float: right;\n",
              "  font-size: smaller;\n",
              "  line-height: 1em;\n",
              "  font-family: monospace;\n",
              "  background-color: var(--sklearn-color-background);\n",
              "  border-radius: 1em;\n",
              "  height: 1em;\n",
              "  width: 1em;\n",
              "  text-decoration: none !important;\n",
              "  margin-left: 1ex;\n",
              "  /* unfitted */\n",
              "  border: var(--sklearn-color-unfitted-level-1) 1pt solid;\n",
              "  color: var(--sklearn-color-unfitted-level-1);\n",
              "}\n",
              "\n",
              ".sk-estimator-doc-link.fitted,\n",
              "a:link.sk-estimator-doc-link.fitted,\n",
              "a:visited.sk-estimator-doc-link.fitted {\n",
              "  /* fitted */\n",
              "  border: var(--sklearn-color-fitted-level-1) 1pt solid;\n",
              "  color: var(--sklearn-color-fitted-level-1);\n",
              "}\n",
              "\n",
              "/* On hover */\n",
              "div.sk-estimator:hover .sk-estimator-doc-link:hover,\n",
              ".sk-estimator-doc-link:hover,\n",
              "div.sk-label-container:hover .sk-estimator-doc-link:hover,\n",
              ".sk-estimator-doc-link:hover {\n",
              "  /* unfitted */\n",
              "  background-color: var(--sklearn-color-unfitted-level-3);\n",
              "  color: var(--sklearn-color-background);\n",
              "  text-decoration: none;\n",
              "}\n",
              "\n",
              "div.sk-estimator.fitted:hover .sk-estimator-doc-link.fitted:hover,\n",
              ".sk-estimator-doc-link.fitted:hover,\n",
              "div.sk-label-container:hover .sk-estimator-doc-link.fitted:hover,\n",
              ".sk-estimator-doc-link.fitted:hover {\n",
              "  /* fitted */\n",
              "  background-color: var(--sklearn-color-fitted-level-3);\n",
              "  color: var(--sklearn-color-background);\n",
              "  text-decoration: none;\n",
              "}\n",
              "\n",
              "/* Span, style for the box shown on hovering the info icon */\n",
              ".sk-estimator-doc-link span {\n",
              "  display: none;\n",
              "  z-index: 9999;\n",
              "  position: relative;\n",
              "  font-weight: normal;\n",
              "  right: .2ex;\n",
              "  padding: .5ex;\n",
              "  margin: .5ex;\n",
              "  width: min-content;\n",
              "  min-width: 20ex;\n",
              "  max-width: 50ex;\n",
              "  color: var(--sklearn-color-text);\n",
              "  box-shadow: 2pt 2pt 4pt #999;\n",
              "  /* unfitted */\n",
              "  background: var(--sklearn-color-unfitted-level-0);\n",
              "  border: .5pt solid var(--sklearn-color-unfitted-level-3);\n",
              "}\n",
              "\n",
              ".sk-estimator-doc-link.fitted span {\n",
              "  /* fitted */\n",
              "  background: var(--sklearn-color-fitted-level-0);\n",
              "  border: var(--sklearn-color-fitted-level-3);\n",
              "}\n",
              "\n",
              ".sk-estimator-doc-link:hover span {\n",
              "  display: block;\n",
              "}\n",
              "\n",
              "/* \"?\"-specific style due to the `<a>` HTML tag */\n",
              "\n",
              "#sk-container-id-3 a.estimator_doc_link {\n",
              "  float: right;\n",
              "  font-size: 1rem;\n",
              "  line-height: 1em;\n",
              "  font-family: monospace;\n",
              "  background-color: var(--sklearn-color-background);\n",
              "  border-radius: 1rem;\n",
              "  height: 1rem;\n",
              "  width: 1rem;\n",
              "  text-decoration: none;\n",
              "  /* unfitted */\n",
              "  color: var(--sklearn-color-unfitted-level-1);\n",
              "  border: var(--sklearn-color-unfitted-level-1) 1pt solid;\n",
              "}\n",
              "\n",
              "#sk-container-id-3 a.estimator_doc_link.fitted {\n",
              "  /* fitted */\n",
              "  border: var(--sklearn-color-fitted-level-1) 1pt solid;\n",
              "  color: var(--sklearn-color-fitted-level-1);\n",
              "}\n",
              "\n",
              "/* On hover */\n",
              "#sk-container-id-3 a.estimator_doc_link:hover {\n",
              "  /* unfitted */\n",
              "  background-color: var(--sklearn-color-unfitted-level-3);\n",
              "  color: var(--sklearn-color-background);\n",
              "  text-decoration: none;\n",
              "}\n",
              "\n",
              "#sk-container-id-3 a.estimator_doc_link.fitted:hover {\n",
              "  /* fitted */\n",
              "  background-color: var(--sklearn-color-fitted-level-3);\n",
              "}\n",
              "</style><div id=\"sk-container-id-3\" class=\"sk-top-container\"><div class=\"sk-text-repr-fallback\"><pre>LinearRegression()</pre><b>In a Jupyter environment, please rerun this cell to show the HTML representation or trust the notebook. <br />On GitHub, the HTML representation is unable to render, please try loading this page with nbviewer.org.</b></div><div class=\"sk-container\" hidden><div class=\"sk-item\"><div class=\"sk-estimator fitted sk-toggleable\"><input class=\"sk-toggleable__control sk-hidden--visually\" id=\"sk-estimator-id-3\" type=\"checkbox\" checked><label for=\"sk-estimator-id-3\" class=\"sk-toggleable__label fitted sk-toggleable__label-arrow fitted\">&nbsp;&nbsp;LinearRegression<a class=\"sk-estimator-doc-link fitted\" rel=\"noreferrer\" target=\"_blank\" href=\"https://scikit-learn.org/1.5/modules/generated/sklearn.linear_model.LinearRegression.html\">?<span>Documentation for LinearRegression</span></a><span class=\"sk-estimator-doc-link fitted\">i<span>Fitted</span></span></label><div class=\"sk-toggleable__content fitted\"><pre>LinearRegression()</pre></div> </div></div></div></div>"
            ],
            "text/plain": [
              "LinearRegression()"
            ]
          },
          "execution_count": 213,
          "metadata": {},
          "output_type": "execute_result"
        }
      ],
      "source": [
        "# Criar o modelo de regressão linear\n",
        "model = LinearRegression()\n",
        "\n",
        "# Treinar o modelo\n",
        "model.fit(X_train, y_train)\n"
      ]
    },
    {
      "cell_type": "markdown",
      "metadata": {
        "id": "3i8x_bLXC9Mo"
      },
      "source": [
        "Passo 6: Fazer Previsões"
      ]
    },
    {
      "cell_type": "code",
      "execution_count": 214,
      "metadata": {
        "id": "kXuWvKIhC8ng"
      },
      "outputs": [],
      "source": [
        "# Fazer previsões no conjunto de teste\n",
        "y_pred = model.predict(X_test)\n"
      ]
    },
    {
      "cell_type": "markdown",
      "metadata": {
        "id": "fNkF-yPGDC8o"
      },
      "source": [
        "Passo 7: Avaliar o Modelo"
      ]
    },
    {
      "cell_type": "code",
      "execution_count": 215,
      "metadata": {
        "colab": {
          "base_uri": "https://localhost:8080/"
        },
        "id": "OJI4ipxVDDUq",
        "outputId": "0f32f355-5c75-4115-8478-f21a76b037c5"
      },
      "outputs": [
        {
          "name": "stdout",
          "output_type": "stream",
          "text": [
            "Mean Squared Error: 120420060.36326273\n",
            "R^2 Score: 0.5478393964956663\n"
          ]
        }
      ],
      "source": [
        "# Avaliar o modelo\n",
        "mse = mean_squared_error(y_test, y_pred)\n",
        "r2 = r2_score(y_test, y_pred)\n",
        "\n",
        "print(f'Mean Squared Error: {mse}')\n",
        "print(f'R^2 Score: {r2}')\n"
      ]
    },
    {
      "cell_type": "markdown",
      "metadata": {
        "id": "4kYAHn--DHAi"
      },
      "source": [
        "Passo 8: Visualizar as Previsões"
      ]
    },
    {
      "cell_type": "code",
      "execution_count": 216,
      "metadata": {
        "id": "1E8ue4ncDJRC"
      },
      "outputs": [
        {
          "data": {
            "image/png": "[encoded data removed]",
            "text/plain": [
              "<Figure size 640x480 with 1 Axes>"
            ]
          },
          "metadata": {},
          "output_type": "display_data"
        }
      ],
      "source": [
        "# Comparar os valores reais e previstos\n",
        "plt.scatter(y_test, y_pred)\n",
        "plt.xlabel('Valores Reais')\n",
        "plt.ylabel('Valores Previstos')\n",
        "plt.title('Valores Reais vs Valores Previstos')\n",
        "plt.show()\n"
      ]
    },
    {
      "cell_type": "markdown",
      "metadata": {
        "id": "WgWXZD6KGJa8"
      },
      "source": [
        "<a name=\"section6\"></a>\n",
        "\n",
        "## Extra (Opcional)\n",
        "\n",
        "#### **Desafio de Regressão Linear**\n",
        "\n",
        "Agora que você viu um exemplo de como realizar uma regressão linear, aqui está um desafio para você praticar:\n",
        "\n",
        "**Desafio\n",
        "Dataset**: Utilize um conjunto de dados real do [Kaggle](https://www.kaggle.com/datasets?fileType=csv) ou qualquer outro repositório. Um exemplo pode ser o dataset \"Boston Housing\" ou qualquer outro dataset de preços de casas.\n",
        "\n",
        "**Objetivo**: Crie um modelo de regressão linear para prever o preço das casas com base nas características disponíveis no dataset.\n",
        "\n",
        "\n",
        "**Passos a seguir**:\n",
        "Carregue e explore os dados.\n",
        "Faça a limpeza e o pré-processamento dos dados (trate valores ausentes, se necessário).\n",
        "Divida os dados em conjuntos de treinamento e teste.\n",
        "Treine um modelo de regressão linear.\n",
        "Avalie o modelo usando métricas como MSE e R^2.\n",
        "Visualize os resultados com gráficos apropriados.\n",
        "\n",
        "Mais extras:\n",
        "Experimente normalizar ou padronizar os dados antes de treinar o modelo.\n",
        "Tente usar a técnica de feature selection para selecionar as características mais importantes."
      ]
    },
    {
      "cell_type": "code",
      "execution_count": 220,
      "metadata": {
        "id": "ENaurTagGera"
      },
      "outputs": [
        {
          "name": "stdout",
          "output_type": "stream",
          "text": [
            "Dataframe info:\n",
            "<class 'pandas.core.frame.DataFrame'>\n",
            "RangeIndex: 506 entries, 0 to 505\n",
            "Data columns (total 14 columns):\n",
            " #   Column   Non-Null Count  Dtype  \n",
            "---  ------   --------------  -----  \n",
            " 0   CRIM     506 non-null    float64\n",
            " 1   ZN       506 non-null    float64\n",
            " 2   INDUS    506 non-null    float64\n",
            " 3   CHAS     506 non-null    int64  \n",
            " 4   NOX      506 non-null    float64\n",
            " 5   RM       506 non-null    float64\n",
            " 6   AGE      506 non-null    float64\n",
            " 7   DIS      506 non-null    float64\n",
            " 8   RAD      506 non-null    int64  \n",
            " 9   TAX      506 non-null    float64\n",
            " 10  PTRATIO  506 non-null    float64\n",
            " 11  B        506 non-null    float64\n",
            " 12  LSTAT    506 non-null    float64\n",
            " 13  MEDV     506 non-null    float64\n",
            "dtypes: float64(12), int64(2)\n",
            "memory usage: 55.5 KB\n"
          ]
        },
        {
          "data": {
            "text/plain": [
              "None"
            ]
          },
          "metadata": {},
          "output_type": "display_data"
        },
        {
          "name": "stdout",
          "output_type": "stream",
          "text": [
            "\n",
            "Dataframe describe:\n"
          ]
        },
        {
          "data": {
            "application/vnd.microsoft.datawrangler.viewer.v0+json": {
              "columns": [
                {
                  "name": "index",
                  "rawType": "object",
                  "type": "string"
                },
                {
                  "name": "CRIM",
                  "rawType": "float64",
                  "type": "float"
                },
                {
                  "name": "ZN",
                  "rawType": "float64",
                  "type": "float"
                },
                {
                  "name": "INDUS",
                  "rawType": "float64",
                  "type": "float"
                },
                {
                  "name": "CHAS",
                  "rawType": "float64",
                  "type": "float"
                },
                {
                  "name": "NOX",
                  "rawType": "float64",
                  "type": "float"
                },
                {
                  "name": "RM",
                  "rawType": "float64",
                  "type": "float"
                },
                {
                  "name": "AGE",
                  "rawType": "float64",
                  "type": "float"
                },
                {
                  "name": "DIS",
                  "rawType": "float64",
                  "type": "float"
                },
                {
                  "name": "RAD",
                  "rawType": "float64",
                  "type": "float"
                },
                {
                  "name": "TAX",
                  "rawType": "float64",
                  "type": "float"
                },
                {
                  "name": "PTRATIO",
                  "rawType": "float64",
                  "type": "float"
                },
                {
                  "name": "B",
                  "rawType": "float64",
                  "type": "float"
                },
                {
                  "name": "LSTAT",
                  "rawType": "float64",
                  "type": "float"
                },
                {
                  "name": "MEDV",
                  "rawType": "float64",
                  "type": "float"
                }
              ],
              "conversionMethod": "pd.DataFrame",
              "ref": "2e2b8e09-de89-4664-83f6-91822edd4a70",
              "rows": [
                [
                  "count",
                  "506.0",
                  "506.0",
                  "506.0",
                  "506.0",
                  "506.0",
                  "506.0",
                  "506.0",
                  "506.0",
                  "506.0",
                  "506.0",
                  "506.0",
                  "506.0",
                  "506.0",
                  "506.0"
                ],
                [
                  "mean",
                  "3.613523557312254",
                  "11.363636363636363",
                  "11.13677865612648",
                  "0.0691699604743083",
                  "0.5546950592885376",
                  "6.284634387351779",
                  "68.57490118577076",
                  "3.795042687747036",
                  "9.549407114624506",
                  "408.2371541501976",
                  "18.455533596837945",
                  "356.6740316205534",
                  "12.653063241106722",
                  "22.532806324110677"
                ],
                [
                  "std",
                  "8.601545105332487",
                  "23.322452994515036",
                  "6.8603529408975845",
                  "0.2539940413404118",
                  "0.11587767566755611",
                  "0.7026171434153237",
                  "28.148861406903638",
                  "2.1057101266276104",
                  "8.707259384239377",
                  "168.53711605495926",
                  "2.164945523714446",
                  "91.29486438415779",
                  "7.141061511348571",
                  "9.19710408737982"
                ],
                [
                  "min",
                  "0.00632",
                  "0.0",
                  "0.46",
                  "0.0",
                  "0.385",
                  "3.561",
                  "2.9",
                  "1.1296",
                  "1.0",
                  "187.0",
                  "12.6",
                  "0.32",
                  "1.73",
                  "5.0"
                ],
                [
                  "25%",
                  "0.08204499999999999",
                  "0.0",
                  "5.19",
                  "0.0",
                  "0.449",
                  "5.8854999999999995",
                  "45.025",
                  "2.100175",
                  "4.0",
                  "279.0",
                  "17.4",
                  "375.3775",
                  "6.949999999999999",
                  "17.025"
                ],
                [
                  "50%",
                  "0.25651",
                  "0.0",
                  "9.69",
                  "0.0",
                  "0.538",
                  "6.2085",
                  "77.5",
                  "3.2074499999999997",
                  "5.0",
                  "330.0",
                  "19.05",
                  "391.44",
                  "11.36",
                  "21.2"
                ],
                [
                  "75%",
                  "3.6770825",
                  "12.5",
                  "18.1",
                  "0.0",
                  "0.624",
                  "6.6235",
                  "94.07499999999999",
                  "5.1884250000000005",
                  "24.0",
                  "666.0",
                  "20.2",
                  "396.225",
                  "16.955000000000002",
                  "25.0"
                ],
                [
                  "max",
                  "88.9762",
                  "100.0",
                  "27.74",
                  "1.0",
                  "0.871",
                  "8.78",
                  "100.0",
                  "12.1265",
                  "24.0",
                  "711.0",
                  "22.0",
                  "396.9",
                  "37.97",
                  "50.0"
                ]
              ],
              "shape": {
                "columns": 14,
                "rows": 8
              }
            },
            "text/html": [
              "<div>\n",
              "<style scoped>\n",
              "    .dataframe tbody tr th:only-of-type {\n",
              "        vertical-align: middle;\n",
              "    }\n",
              "\n",
              "    .dataframe tbody tr th {\n",
              "        vertical-align: top;\n",
              "    }\n",
              "\n",
              "    .dataframe thead th {\n",
              "        text-align: right;\n",
              "    }\n",
              "</style>\n",
              "<table border=\"1\" class=\"dataframe\">\n",
              "  <thead>\n",
              "    <tr style=\"text-align: right;\">\n",
              "      <th></th>\n",
              "      <th>CRIM</th>\n",
              "      <th>ZN</th>\n",
              "      <th>INDUS</th>\n",
              "      <th>CHAS</th>\n",
              "      <th>NOX</th>\n",
              "      <th>RM</th>\n",
              "      <th>AGE</th>\n",
              "      <th>DIS</th>\n",
              "      <th>RAD</th>\n",
              "      <th>TAX</th>\n",
              "      <th>PTRATIO</th>\n",
              "      <th>B</th>\n",
              "      <th>LSTAT</th>\n",
              "      <th>MEDV</th>\n",
              "    </tr>\n",
              "  </thead>\n",
              "  <tbody>\n",
              "    <tr>\n",
              "      <th>count</th>\n",
              "      <td>506.000000</td>\n",
              "      <td>506.000000</td>\n",
              "      <td>506.000000</td>\n",
              "      <td>506.000000</td>\n",
              "      <td>506.000000</td>\n",
              "      <td>506.000000</td>\n",
              "      <td>506.000000</td>\n",
              "      <td>506.000000</td>\n",
              "      <td>506.000000</td>\n",
              "      <td>506.000000</td>\n",
              "      <td>506.000000</td>\n",
              "      <td>506.000000</td>\n",
              "      <td>506.000000</td>\n",
              "      <td>506.000000</td>\n",
              "    </tr>\n",
              "    <tr>\n",
              "      <th>mean</th>\n",
              "      <td>3.613524</td>\n",
              "      <td>11.363636</td>\n",
              "      <td>11.136779</td>\n",
              "      <td>0.069170</td>\n",
              "      <td>0.554695</td>\n",
              "      <td>6.284634</td>\n",
              "      <td>68.574901</td>\n",
              "      <td>3.795043</td>\n",
              "      <td>9.549407</td>\n",
              "      <td>408.237154</td>\n",
              "      <td>18.455534</td>\n",
              "      <td>356.674032</td>\n",
              "      <td>12.653063</td>\n",
              "      <td>22.532806</td>\n",
              "    </tr>\n",
              "    <tr>\n",
              "      <th>std</th>\n",
              "      <td>8.601545</td>\n",
              "      <td>23.322453</td>\n",
              "      <td>6.860353</td>\n",
              "      <td>0.253994</td>\n",
              "      <td>0.115878</td>\n",
              "      <td>0.702617</td>\n",
              "      <td>28.148861</td>\n",
              "      <td>2.105710</td>\n",
              "      <td>8.707259</td>\n",
              "      <td>168.537116</td>\n",
              "      <td>2.164946</td>\n",
              "      <td>91.294864</td>\n",
              "      <td>7.141062</td>\n",
              "      <td>9.197104</td>\n",
              "    </tr>\n",
              "    <tr>\n",
              "      <th>min</th>\n",
              "      <td>0.006320</td>\n",
              "      <td>0.000000</td>\n",
              "      <td>0.460000</td>\n",
              "      <td>0.000000</td>\n",
              "      <td>0.385000</td>\n",
              "      <td>3.561000</td>\n",
              "      <td>2.900000</td>\n",
              "      <td>1.129600</td>\n",
              "      <td>1.000000</td>\n",
              "      <td>187.000000</td>\n",
              "      <td>12.600000</td>\n",
              "      <td>0.320000</td>\n",
              "      <td>1.730000</td>\n",
              "      <td>5.000000</td>\n",
              "    </tr>\n",
              "    <tr>\n",
              "      <th>25%</th>\n",
              "      <td>0.082045</td>\n",
              "      <td>0.000000</td>\n",
              "      <td>5.190000</td>\n",
              "      <td>0.000000</td>\n",
              "      <td>0.449000</td>\n",
              "      <td>5.885500</td>\n",
              "      <td>45.025000</td>\n",
              "      <td>2.100175</td>\n",
              "      <td>4.000000</td>\n",
              "      <td>279.000000</td>\n",
              "      <td>17.400000</td>\n",
              "      <td>375.377500</td>\n",
              "      <td>6.950000</td>\n",
              "      <td>17.025000</td>\n",
              "    </tr>\n",
              "    <tr>\n",
              "      <th>50%</th>\n",
              "      <td>0.256510</td>\n",
              "      <td>0.000000</td>\n",
              "      <td>9.690000</td>\n",
              "      <td>0.000000</td>\n",
              "      <td>0.538000</td>\n",
              "      <td>6.208500</td>\n",
              "      <td>77.500000</td>\n",
              "      <td>3.207450</td>\n",
              "      <td>5.000000</td>\n",
              "      <td>330.000000</td>\n",
              "      <td>19.050000</td>\n",
              "      <td>391.440000</td>\n",
              "      <td>11.360000</td>\n",
              "      <td>21.200000</td>\n",
              "    </tr>\n",
              "    <tr>\n",
              "      <th>75%</th>\n",
              "      <td>3.677083</td>\n",
              "      <td>12.500000</td>\n",
              "      <td>18.100000</td>\n",
              "      <td>0.000000</td>\n",
              "      <td>0.624000</td>\n",
              "      <td>6.623500</td>\n",
              "      <td>94.075000</td>\n",
              "      <td>5.188425</td>\n",
              "      <td>24.000000</td>\n",
              "      <td>666.000000</td>\n",
              "      <td>20.200000</td>\n",
              "      <td>396.225000</td>\n",
              "      <td>16.955000</td>\n",
              "      <td>25.000000</td>\n",
              "    </tr>\n",
              "    <tr>\n",
              "      <th>max</th>\n",
              "      <td>88.976200</td>\n",
              "      <td>100.000000</td>\n",
              "      <td>27.740000</td>\n",
              "      <td>1.000000</td>\n",
              "      <td>0.871000</td>\n",
              "      <td>8.780000</td>\n",
              "      <td>100.000000</td>\n",
              "      <td>12.126500</td>\n",
              "      <td>24.000000</td>\n",
              "      <td>711.000000</td>\n",
              "      <td>22.000000</td>\n",
              "      <td>396.900000</td>\n",
              "      <td>37.970000</td>\n",
              "      <td>50.000000</td>\n",
              "    </tr>\n",
              "  </tbody>\n",
              "</table>\n",
              "</div>"
            ],
            "text/plain": [
              "             CRIM          ZN       INDUS        CHAS         NOX          RM  \\\n",
              "count  506.000000  506.000000  506.000000  506.000000  506.000000  506.000000   \n",
              "mean     3.613524   11.363636   11.136779    0.069170    0.554695    6.284634   \n",
              "std      8.601545   23.322453    6.860353    0.253994    0.115878    0.702617   \n",
              "min      0.006320    0.000000    0.460000    0.000000    0.385000    3.561000   \n",
              "25%      0.082045    0.000000    5.190000    0.000000    0.449000    5.885500   \n",
              "50%      0.256510    0.000000    9.690000    0.000000    0.538000    6.208500   \n",
              "75%      3.677083   12.500000   18.100000    0.000000    0.624000    6.623500   \n",
              "max     88.976200  100.000000   27.740000    1.000000    0.871000    8.780000   \n",
              "\n",
              "              AGE         DIS         RAD         TAX     PTRATIO           B  \\\n",
              "count  506.000000  506.000000  506.000000  506.000000  506.000000  506.000000   \n",
              "mean    68.574901    3.795043    9.549407  408.237154   18.455534  356.674032   \n",
              "std     28.148861    2.105710    8.707259  168.537116    2.164946   91.294864   \n",
              "min      2.900000    1.129600    1.000000  187.000000   12.600000    0.320000   \n",
              "25%     45.025000    2.100175    4.000000  279.000000   17.400000  375.377500   \n",
              "50%     77.500000    3.207450    5.000000  330.000000   19.050000  391.440000   \n",
              "75%     94.075000    5.188425   24.000000  666.000000   20.200000  396.225000   \n",
              "max    100.000000   12.126500   24.000000  711.000000   22.000000  396.900000   \n",
              "\n",
              "            LSTAT        MEDV  \n",
              "count  506.000000  506.000000  \n",
              "mean    12.653063   22.532806  \n",
              "std      7.141062    9.197104  \n",
              "min      1.730000    5.000000  \n",
              "25%      6.950000   17.025000  \n",
              "50%     11.360000   21.200000  \n",
              "75%     16.955000   25.000000  \n",
              "max     37.970000   50.000000  "
            ]
          },
          "metadata": {},
          "output_type": "display_data"
        },
        {
          "name": "stdout",
          "output_type": "stream",
          "text": [
            "\n",
            "Dataframe head:\n"
          ]
        },
        {
          "data": {
            "application/vnd.microsoft.datawrangler.viewer.v0+json": {
              "columns": [
                {
                  "name": "index",
                  "rawType": "int64",
                  "type": "integer"
                },
                {
                  "name": "CRIM",
                  "rawType": "float64",
                  "type": "float"
                },
                {
                  "name": "ZN",
                  "rawType": "float64",
                  "type": "float"
                },
                {
                  "name": "INDUS",
                  "rawType": "float64",
                  "type": "float"
                },
                {
                  "name": "CHAS",
                  "rawType": "int64",
                  "type": "integer"
                },
                {
                  "name": "NOX",
                  "rawType": "float64",
                  "type": "float"
                },
                {
                  "name": "RM",
                  "rawType": "float64",
                  "type": "float"
                },
                {
                  "name": "AGE",
                  "rawType": "float64",
                  "type": "float"
                },
                {
                  "name": "DIS",
                  "rawType": "float64",
                  "type": "float"
                },
                {
                  "name": "RAD",
                  "rawType": "int64",
                  "type": "integer"
                },
                {
                  "name": "TAX",
                  "rawType": "float64",
                  "type": "float"
                },
                {
                  "name": "PTRATIO",
                  "rawType": "float64",
                  "type": "float"
                },
                {
                  "name": "B",
                  "rawType": "float64",
                  "type": "float"
                },
                {
                  "name": "LSTAT",
                  "rawType": "float64",
                  "type": "float"
                },
                {
                  "name": "MEDV",
                  "rawType": "float64",
                  "type": "float"
                }
              ],
              "conversionMethod": "pd.DataFrame",
              "ref": "d3719321-2992-4dda-a3d2-fbc5b470ad91",
              "rows": [
                [
                  "0",
                  "0.00632",
                  "18.0",
                  "2.31",
                  "0",
                  "0.538",
                  "6.575",
                  "65.2",
                  "4.09",
                  "1",
                  "296.0",
                  "15.3",
                  "396.9",
                  "4.98",
                  "24.0"
                ],
                [
                  "1",
                  "0.02731",
                  "0.0",
                  "7.07",
                  "0",
                  "0.469",
                  "6.421",
                  "78.9",
                  "4.9671",
                  "2",
                  "242.0",
                  "17.8",
                  "396.9",
                  "9.14",
                  "21.6"
                ],
                [
                  "2",
                  "0.02729",
                  "0.0",
                  "7.07",
                  "0",
                  "0.469",
                  "7.185",
                  "61.1",
                  "4.9671",
                  "2",
                  "242.0",
                  "17.8",
                  "392.83",
                  "4.03",
                  "34.7"
                ],
                [
                  "3",
                  "0.03237",
                  "0.0",
                  "2.18",
                  "0",
                  "0.458",
                  "6.998",
                  "45.8",
                  "6.0622",
                  "3",
                  "222.0",
                  "18.7",
                  "394.63",
                  "2.94",
                  "33.4"
                ],
                [
                  "4",
                  "0.06905",
                  "0.0",
                  "2.18",
                  "0",
                  "0.458",
                  "7.147",
                  "54.2",
                  "6.0622",
                  "3",
                  "222.0",
                  "18.7",
                  "396.9",
                  "5.33",
                  "36.2"
                ],
                [
                  "5",
                  "0.02985",
                  "0.0",
                  "2.18",
                  "0",
                  "0.458",
                  "6.43",
                  "58.7",
                  "6.0622",
                  "3",
                  "222.0",
                  "18.7",
                  "394.12",
                  "5.21",
                  "28.7"
                ],
                [
                  "6",
                  "0.08829",
                  "12.5",
                  "7.87",
                  "0",
                  "0.524",
                  "6.012",
                  "66.6",
                  "5.5605",
                  "5",
                  "311.0",
                  "15.2",
                  "395.6",
                  "12.43",
                  "22.9"
                ],
                [
                  "7",
                  "0.14455",
                  "12.5",
                  "7.87",
                  "0",
                  "0.524",
                  "6.172",
                  "96.1",
                  "5.9505",
                  "5",
                  "311.0",
                  "15.2",
                  "396.9",
                  "19.15",
                  "27.1"
                ],
                [
                  "8",
                  "0.21124",
                  "12.5",
                  "7.87",
                  "0",
                  "0.524",
                  "5.631",
                  "100.0",
                  "6.0821",
                  "5",
                  "311.0",
                  "15.2",
                  "386.63",
                  "29.93",
                  "16.5"
                ],
                [
                  "9",
                  "0.17004",
                  "12.5",
                  "7.87",
                  "0",
                  "0.524",
                  "6.004",
                  "85.9",
                  "6.5921",
                  "5",
                  "311.0",
                  "15.2",
                  "386.71",
                  "17.1",
                  "18.9"
                ],
                [
                  "10",
                  "0.22489",
                  "12.5",
                  "7.87",
                  "0",
                  "0.524",
                  "6.377",
                  "94.3",
                  "6.3467",
                  "5",
                  "311.0",
                  "15.2",
                  "392.52",
                  "20.45",
                  "15.0"
                ],
                [
                  "11",
                  "0.11747",
                  "12.5",
                  "7.87",
                  "0",
                  "0.524",
                  "6.009",
                  "82.9",
                  "6.2267",
                  "5",
                  "311.0",
                  "15.2",
                  "396.9",
                  "13.27",
                  "18.9"
                ],
                [
                  "12",
                  "0.09378",
                  "12.5",
                  "7.87",
                  "0",
                  "0.524",
                  "5.889",
                  "39.0",
                  "5.4509",
                  "5",
                  "311.0",
                  "15.2",
                  "390.5",
                  "15.71",
                  "21.7"
                ],
                [
                  "13",
                  "0.62976",
                  "0.0",
                  "8.14",
                  "0",
                  "0.538",
                  "5.949",
                  "61.8",
                  "4.7075",
                  "4",
                  "307.0",
                  "21.0",
                  "396.9",
                  "8.26",
                  "20.4"
                ],
                [
                  "14",
                  "0.63796",
                  "0.0",
                  "8.14",
                  "0",
                  "0.538",
                  "6.096",
                  "84.5",
                  "4.4619",
                  "4",
                  "307.0",
                  "21.0",
                  "380.02",
                  "10.26",
                  "18.2"
                ],
                [
                  "15",
                  "0.62739",
                  "0.0",
                  "8.14",
                  "0",
                  "0.538",
                  "5.834",
                  "56.5",
                  "4.4986",
                  "4",
                  "307.0",
                  "21.0",
                  "395.62",
                  "8.47",
                  "19.9"
                ],
                [
                  "16",
                  "1.05393",
                  "0.0",
                  "8.14",
                  "0",
                  "0.538",
                  "5.935",
                  "29.3",
                  "4.4986",
                  "4",
                  "307.0",
                  "21.0",
                  "386.85",
                  "6.58",
                  "23.1"
                ],
                [
                  "17",
                  "0.7842",
                  "0.0",
                  "8.14",
                  "0",
                  "0.538",
                  "5.99",
                  "81.7",
                  "4.2579",
                  "4",
                  "307.0",
                  "21.0",
                  "386.75",
                  "14.67",
                  "17.5"
                ],
                [
                  "18",
                  "0.80271",
                  "0.0",
                  "8.14",
                  "0",
                  "0.538",
                  "5.456",
                  "36.6",
                  "3.7965",
                  "4",
                  "307.0",
                  "21.0",
                  "288.99",
                  "11.69",
                  "20.2"
                ],
                [
                  "19",
                  "0.7258",
                  "0.0",
                  "8.14",
                  "0",
                  "0.538",
                  "5.727",
                  "69.5",
                  "3.7965",
                  "4",
                  "307.0",
                  "21.0",
                  "390.95",
                  "11.28",
                  "18.2"
                ]
              ],
              "shape": {
                "columns": 14,
                "rows": 20
              }
            },
            "text/html": [
              "<div>\n",
              "<style scoped>\n",
              "    .dataframe tbody tr th:only-of-type {\n",
              "        vertical-align: middle;\n",
              "    }\n",
              "\n",
              "    .dataframe tbody tr th {\n",
              "        vertical-align: top;\n",
              "    }\n",
              "\n",
              "    .dataframe thead th {\n",
              "        text-align: right;\n",
              "    }\n",
              "</style>\n",
              "<table border=\"1\" class=\"dataframe\">\n",
              "  <thead>\n",
              "    <tr style=\"text-align: right;\">\n",
              "      <th></th>\n",
              "      <th>CRIM</th>\n",
              "      <th>ZN</th>\n",
              "      <th>INDUS</th>\n",
              "      <th>CHAS</th>\n",
              "      <th>NOX</th>\n",
              "      <th>RM</th>\n",
              "      <th>AGE</th>\n",
              "      <th>DIS</th>\n",
              "      <th>RAD</th>\n",
              "      <th>TAX</th>\n",
              "      <th>PTRATIO</th>\n",
              "      <th>B</th>\n",
              "      <th>LSTAT</th>\n",
              "      <th>MEDV</th>\n",
              "    </tr>\n",
              "  </thead>\n",
              "  <tbody>\n",
              "    <tr>\n",
              "      <th>0</th>\n",
              "      <td>0.00632</td>\n",
              "      <td>18.0</td>\n",
              "      <td>2.31</td>\n",
              "      <td>0</td>\n",
              "      <td>0.538</td>\n",
              "      <td>6.575</td>\n",
              "      <td>65.2</td>\n",
              "      <td>4.0900</td>\n",
              "      <td>1</td>\n",
              "      <td>296.0</td>\n",
              "      <td>15.3</td>\n",
              "      <td>396.90</td>\n",
              "      <td>4.98</td>\n",
              "      <td>24.0</td>\n",
              "    </tr>\n",
              "    <tr>\n",
              "      <th>1</th>\n",
              "      <td>0.02731</td>\n",
              "      <td>0.0</td>\n",
              "      <td>7.07</td>\n",
              "      <td>0</td>\n",
              "      <td>0.469</td>\n",
              "      <td>6.421</td>\n",
              "      <td>78.9</td>\n",
              "      <td>4.9671</td>\n",
              "      <td>2</td>\n",
              "      <td>242.0</td>\n",
              "      <td>17.8</td>\n",
              "      <td>396.90</td>\n",
              "      <td>9.14</td>\n",
              "      <td>21.6</td>\n",
              "    </tr>\n",
              "    <tr>\n",
              "      <th>2</th>\n",
              "      <td>0.02729</td>\n",
              "      <td>0.0</td>\n",
              "      <td>7.07</td>\n",
              "      <td>0</td>\n",
              "      <td>0.469</td>\n",
              "      <td>7.185</td>\n",
              "      <td>61.1</td>\n",
              "      <td>4.9671</td>\n",
              "      <td>2</td>\n",
              "      <td>242.0</td>\n",
              "      <td>17.8</td>\n",
              "      <td>392.83</td>\n",
              "      <td>4.03</td>\n",
              "      <td>34.7</td>\n",
              "    </tr>\n",
              "    <tr>\n",
              "      <th>3</th>\n",
              "      <td>0.03237</td>\n",
              "      <td>0.0</td>\n",
              "      <td>2.18</td>\n",
              "      <td>0</td>\n",
              "      <td>0.458</td>\n",
              "      <td>6.998</td>\n",
              "      <td>45.8</td>\n",
              "      <td>6.0622</td>\n",
              "      <td>3</td>\n",
              "      <td>222.0</td>\n",
              "      <td>18.7</td>\n",
              "      <td>394.63</td>\n",
              "      <td>2.94</td>\n",
              "      <td>33.4</td>\n",
              "    </tr>\n",
              "    <tr>\n",
              "      <th>4</th>\n",
              "      <td>0.06905</td>\n",
              "      <td>0.0</td>\n",
              "      <td>2.18</td>\n",
              "      <td>0</td>\n",
              "      <td>0.458</td>\n",
              "      <td>7.147</td>\n",
              "      <td>54.2</td>\n",
              "      <td>6.0622</td>\n",
              "      <td>3</td>\n",
              "      <td>222.0</td>\n",
              "      <td>18.7</td>\n",
              "      <td>396.90</td>\n",
              "      <td>5.33</td>\n",
              "      <td>36.2</td>\n",
              "    </tr>\n",
              "    <tr>\n",
              "      <th>5</th>\n",
              "      <td>0.02985</td>\n",
              "      <td>0.0</td>\n",
              "      <td>2.18</td>\n",
              "      <td>0</td>\n",
              "      <td>0.458</td>\n",
              "      <td>6.430</td>\n",
              "      <td>58.7</td>\n",
              "      <td>6.0622</td>\n",
              "      <td>3</td>\n",
              "      <td>222.0</td>\n",
              "      <td>18.7</td>\n",
              "      <td>394.12</td>\n",
              "      <td>5.21</td>\n",
              "      <td>28.7</td>\n",
              "    </tr>\n",
              "    <tr>\n",
              "      <th>6</th>\n",
              "      <td>0.08829</td>\n",
              "      <td>12.5</td>\n",
              "      <td>7.87</td>\n",
              "      <td>0</td>\n",
              "      <td>0.524</td>\n",
              "      <td>6.012</td>\n",
              "      <td>66.6</td>\n",
              "      <td>5.5605</td>\n",
              "      <td>5</td>\n",
              "      <td>311.0</td>\n",
              "      <td>15.2</td>\n",
              "      <td>395.60</td>\n",
              "      <td>12.43</td>\n",
              "      <td>22.9</td>\n",
              "    </tr>\n",
              "    <tr>\n",
              "      <th>7</th>\n",
              "      <td>0.14455</td>\n",
              "      <td>12.5</td>\n",
              "      <td>7.87</td>\n",
              "      <td>0</td>\n",
              "      <td>0.524</td>\n",
              "      <td>6.172</td>\n",
              "      <td>96.1</td>\n",
              "      <td>5.9505</td>\n",
              "      <td>5</td>\n",
              "      <td>311.0</td>\n",
              "      <td>15.2</td>\n",
              "      <td>396.90</td>\n",
              "      <td>19.15</td>\n",
              "      <td>27.1</td>\n",
              "    </tr>\n",
              "    <tr>\n",
              "      <th>8</th>\n",
              "      <td>0.21124</td>\n",
              "      <td>12.5</td>\n",
              "      <td>7.87</td>\n",
              "      <td>0</td>\n",
              "      <td>0.524</td>\n",
              "      <td>5.631</td>\n",
              "      <td>100.0</td>\n",
              "      <td>6.0821</td>\n",
              "      <td>5</td>\n",
              "      <td>311.0</td>\n",
              "      <td>15.2</td>\n",
              "      <td>386.63</td>\n",
              "      <td>29.93</td>\n",
              "      <td>16.5</td>\n",
              "    </tr>\n",
              "    <tr>\n",
              "      <th>9</th>\n",
              "      <td>0.17004</td>\n",
              "      <td>12.5</td>\n",
              "      <td>7.87</td>\n",
              "      <td>0</td>\n",
              "      <td>0.524</td>\n",
              "      <td>6.004</td>\n",
              "      <td>85.9</td>\n",
              "      <td>6.5921</td>\n",
              "      <td>5</td>\n",
              "      <td>311.0</td>\n",
              "      <td>15.2</td>\n",
              "      <td>386.71</td>\n",
              "      <td>17.10</td>\n",
              "      <td>18.9</td>\n",
              "    </tr>\n",
              "    <tr>\n",
              "      <th>10</th>\n",
              "      <td>0.22489</td>\n",
              "      <td>12.5</td>\n",
              "      <td>7.87</td>\n",
              "      <td>0</td>\n",
              "      <td>0.524</td>\n",
              "      <td>6.377</td>\n",
              "      <td>94.3</td>\n",
              "      <td>6.3467</td>\n",
              "      <td>5</td>\n",
              "      <td>311.0</td>\n",
              "      <td>15.2</td>\n",
              "      <td>392.52</td>\n",
              "      <td>20.45</td>\n",
              "      <td>15.0</td>\n",
              "    </tr>\n",
              "    <tr>\n",
              "      <th>11</th>\n",
              "      <td>0.11747</td>\n",
              "      <td>12.5</td>\n",
              "      <td>7.87</td>\n",
              "      <td>0</td>\n",
              "      <td>0.524</td>\n",
              "      <td>6.009</td>\n",
              "      <td>82.9</td>\n",
              "      <td>6.2267</td>\n",
              "      <td>5</td>\n",
              "      <td>311.0</td>\n",
              "      <td>15.2</td>\n",
              "      <td>396.90</td>\n",
              "      <td>13.27</td>\n",
              "      <td>18.9</td>\n",
              "    </tr>\n",
              "    <tr>\n",
              "      <th>12</th>\n",
              "      <td>0.09378</td>\n",
              "      <td>12.5</td>\n",
              "      <td>7.87</td>\n",
              "      <td>0</td>\n",
              "      <td>0.524</td>\n",
              "      <td>5.889</td>\n",
              "      <td>39.0</td>\n",
              "      <td>5.4509</td>\n",
              "      <td>5</td>\n",
              "      <td>311.0</td>\n",
              "      <td>15.2</td>\n",
              "      <td>390.50</td>\n",
              "      <td>15.71</td>\n",
              "      <td>21.7</td>\n",
              "    </tr>\n",
              "    <tr>\n",
              "      <th>13</th>\n",
              "      <td>0.62976</td>\n",
              "      <td>0.0</td>\n",
              "      <td>8.14</td>\n",
              "      <td>0</td>\n",
              "      <td>0.538</td>\n",
              "      <td>5.949</td>\n",
              "      <td>61.8</td>\n",
              "      <td>4.7075</td>\n",
              "      <td>4</td>\n",
              "      <td>307.0</td>\n",
              "      <td>21.0</td>\n",
              "      <td>396.90</td>\n",
              "      <td>8.26</td>\n",
              "      <td>20.4</td>\n",
              "    </tr>\n",
              "    <tr>\n",
              "      <th>14</th>\n",
              "      <td>0.63796</td>\n",
              "      <td>0.0</td>\n",
              "      <td>8.14</td>\n",
              "      <td>0</td>\n",
              "      <td>0.538</td>\n",
              "      <td>6.096</td>\n",
              "      <td>84.5</td>\n",
              "      <td>4.4619</td>\n",
              "      <td>4</td>\n",
              "      <td>307.0</td>\n",
              "      <td>21.0</td>\n",
              "      <td>380.02</td>\n",
              "      <td>10.26</td>\n",
              "      <td>18.2</td>\n",
              "    </tr>\n",
              "    <tr>\n",
              "      <th>15</th>\n",
              "      <td>0.62739</td>\n",
              "      <td>0.0</td>\n",
              "      <td>8.14</td>\n",
              "      <td>0</td>\n",
              "      <td>0.538</td>\n",
              "      <td>5.834</td>\n",
              "      <td>56.5</td>\n",
              "      <td>4.4986</td>\n",
              "      <td>4</td>\n",
              "      <td>307.0</td>\n",
              "      <td>21.0</td>\n",
              "      <td>395.62</td>\n",
              "      <td>8.47</td>\n",
              "      <td>19.9</td>\n",
              "    </tr>\n",
              "    <tr>\n",
              "      <th>16</th>\n",
              "      <td>1.05393</td>\n",
              "      <td>0.0</td>\n",
              "      <td>8.14</td>\n",
              "      <td>0</td>\n",
              "      <td>0.538</td>\n",
              "      <td>5.935</td>\n",
              "      <td>29.3</td>\n",
              "      <td>4.4986</td>\n",
              "      <td>4</td>\n",
              "      <td>307.0</td>\n",
              "      <td>21.0</td>\n",
              "      <td>386.85</td>\n",
              "      <td>6.58</td>\n",
              "      <td>23.1</td>\n",
              "    </tr>\n",
              "    <tr>\n",
              "      <th>17</th>\n",
              "      <td>0.78420</td>\n",
              "      <td>0.0</td>\n",
              "      <td>8.14</td>\n",
              "      <td>0</td>\n",
              "      <td>0.538</td>\n",
              "      <td>5.990</td>\n",
              "      <td>81.7</td>\n",
              "      <td>4.2579</td>\n",
              "      <td>4</td>\n",
              "      <td>307.0</td>\n",
              "      <td>21.0</td>\n",
              "      <td>386.75</td>\n",
              "      <td>14.67</td>\n",
              "      <td>17.5</td>\n",
              "    </tr>\n",
              "    <tr>\n",
              "      <th>18</th>\n",
              "      <td>0.80271</td>\n",
              "      <td>0.0</td>\n",
              "      <td>8.14</td>\n",
              "      <td>0</td>\n",
              "      <td>0.538</td>\n",
              "      <td>5.456</td>\n",
              "      <td>36.6</td>\n",
              "      <td>3.7965</td>\n",
              "      <td>4</td>\n",
              "      <td>307.0</td>\n",
              "      <td>21.0</td>\n",
              "      <td>288.99</td>\n",
              "      <td>11.69</td>\n",
              "      <td>20.2</td>\n",
              "    </tr>\n",
              "    <tr>\n",
              "      <th>19</th>\n",
              "      <td>0.72580</td>\n",
              "      <td>0.0</td>\n",
              "      <td>8.14</td>\n",
              "      <td>0</td>\n",
              "      <td>0.538</td>\n",
              "      <td>5.727</td>\n",
              "      <td>69.5</td>\n",
              "      <td>3.7965</td>\n",
              "      <td>4</td>\n",
              "      <td>307.0</td>\n",
              "      <td>21.0</td>\n",
              "      <td>390.95</td>\n",
              "      <td>11.28</td>\n",
              "      <td>18.2</td>\n",
              "    </tr>\n",
              "  </tbody>\n",
              "</table>\n",
              "</div>"
            ],
            "text/plain": [
              "       CRIM    ZN  INDUS  CHAS    NOX     RM    AGE     DIS  RAD    TAX  \\\n",
              "0   0.00632  18.0   2.31     0  0.538  6.575   65.2  4.0900    1  296.0   \n",
              "1   0.02731   0.0   7.07     0  0.469  6.421   78.9  4.9671    2  242.0   \n",
              "2   0.02729   0.0   7.07     0  0.469  7.185   61.1  4.9671    2  242.0   \n",
              "3   0.03237   0.0   2.18     0  0.458  6.998   45.8  6.0622    3  222.0   \n",
              "4   0.06905   0.0   2.18     0  0.458  7.147   54.2  6.0622    3  222.0   \n",
              "5   0.02985   0.0   2.18     0  0.458  6.430   58.7  6.0622    3  222.0   \n",
              "6   0.08829  12.5   7.87     0  0.524  6.012   66.6  5.5605    5  311.0   \n",
              "7   0.14455  12.5   7.87     0  0.524  6.172   96.1  5.9505    5  311.0   \n",
              "8   0.21124  12.5   7.87     0  0.524  5.631  100.0  6.0821    5  311.0   \n",
              "9   0.17004  12.5   7.87     0  0.524  6.004   85.9  6.5921    5  311.0   \n",
              "10  0.22489  12.5   7.87     0  0.524  6.377   94.3  6.3467    5  311.0   \n",
              "11  0.11747  12.5   7.87     0  0.524  6.009   82.9  6.2267    5  311.0   \n",
              "12  0.09378  12.5   7.87     0  0.524  5.889   39.0  5.4509    5  311.0   \n",
              "13  0.62976   0.0   8.14     0  0.538  5.949   61.8  4.7075    4  307.0   \n",
              "14  0.63796   0.0   8.14     0  0.538  6.096   84.5  4.4619    4  307.0   \n",
              "15  0.62739   0.0   8.14     0  0.538  5.834   56.5  4.4986    4  307.0   \n",
              "16  1.05393   0.0   8.14     0  0.538  5.935   29.3  4.4986    4  307.0   \n",
              "17  0.78420   0.0   8.14     0  0.538  5.990   81.7  4.2579    4  307.0   \n",
              "18  0.80271   0.0   8.14     0  0.538  5.456   36.6  3.7965    4  307.0   \n",
              "19  0.72580   0.0   8.14     0  0.538  5.727   69.5  3.7965    4  307.0   \n",
              "\n",
              "    PTRATIO       B  LSTAT  MEDV  \n",
              "0      15.3  396.90   4.98  24.0  \n",
              "1      17.8  396.90   9.14  21.6  \n",
              "2      17.8  392.83   4.03  34.7  \n",
              "3      18.7  394.63   2.94  33.4  \n",
              "4      18.7  396.90   5.33  36.2  \n",
              "5      18.7  394.12   5.21  28.7  \n",
              "6      15.2  395.60  12.43  22.9  \n",
              "7      15.2  396.90  19.15  27.1  \n",
              "8      15.2  386.63  29.93  16.5  \n",
              "9      15.2  386.71  17.10  18.9  \n",
              "10     15.2  392.52  20.45  15.0  \n",
              "11     15.2  396.90  13.27  18.9  \n",
              "12     15.2  390.50  15.71  21.7  \n",
              "13     21.0  396.90   8.26  20.4  \n",
              "14     21.0  380.02  10.26  18.2  \n",
              "15     21.0  395.62   8.47  19.9  \n",
              "16     21.0  386.85   6.58  23.1  \n",
              "17     21.0  386.75  14.67  17.5  \n",
              "18     21.0  288.99  11.69  20.2  \n",
              "19     21.0  390.95  11.28  18.2  "
            ]
          },
          "metadata": {},
          "output_type": "display_data"
        },
        {
          "data": {
            "text/plain": [
              "'\\nCRIM:    per capita crime rate by town.\\nZN:      proportion of residential land zoned for lots over 25,000 sq.ft.\\nINDUS:   proportion of non-retail business acres per town.\\nCHAS:    Charles River dummy variable (= 1 if tract bounds river; 0 otherwise).\\nNOX:     nitrogen oxides concentration (parts per 10 million).\\nRM:      average number of rooms per dwelling.\\nAGE:     proportion of owner-occupied units built prior to 1940.\\nDIS:     weighted mean of distances to five Boston employment centres.\\nRAD:     index of accessibility to radial highways.\\nTAX:     full-value property-tax rate per $10,000.\\nPTRATIO: pupil-teacher ratio by town.\\nBLACK:   1000(Bk - 0.63)^2 where Bk is the proportion of blacks by town.\\nLSTAT:   lower status of the population (percent).\\nMEDV:    median value of owner-occupied homes in $1000s.\\n'"
            ]
          },
          "execution_count": 220,
          "metadata": {},
          "output_type": "execute_result"
        }
      ],
      "source": [
        "# Imports\n",
        "import seaborn as sns\n",
        "\n",
        "# Reading Data\n",
        "df = pd.read_csv(\"boston-housing-dataset.csv\")\n",
        "\n",
        "# Dataframe Transformation\n",
        "df = df.loc[:, ~df.columns.str.contains(\"Unnamed\")]\n",
        "\n",
        "# Display Informations\n",
        "print(\"Dataframe info:\")\n",
        "display(df.info())\n",
        "\n",
        "print(\"\\nDataframe describe:\")\n",
        "display(df.describe())\n",
        "\n",
        "print(\"\\nDataframe head:\")\n",
        "display(df.head(20))\n",
        "\n",
        "\"\"\"\n",
        "CRIM:    per capita crime rate by town.\n",
        "ZN:      proportion of residential land zoned for lots over 25,000 sq.ft.\n",
        "INDUS:   proportion of non-retail business acres per town.\n",
        "CHAS:    Charles River dummy variable (= 1 if tract bounds river; 0 otherwise).\n",
        "NOX:     nitrogen oxides concentration (parts per 10 million).\n",
        "RM:      average number of rooms per dwelling.\n",
        "AGE:     proportion of owner-occupied units built prior to 1940.\n",
        "DIS:     weighted mean of distances to five Boston employment centres.\n",
        "RAD:     index of accessibility to radial highways.\n",
        "TAX:     full-value property-tax rate per $10,000.\n",
        "PTRATIO: pupil-teacher ratio by town.\n",
        "BLACK:   1000(Bk - 0.63)^2 where Bk is the proportion of blacks by town.\n",
        "LSTAT:   lower status of the population (percent).\n",
        "MEDV:    median value of owner-occupied homes in $1000s.\n",
        "\"\"\"\n"
      ]
    },
    {
      "cell_type": "code",
      "execution_count": null,
      "metadata": {},
      "outputs": [
        {
          "data": {
            "image/png": "[encoded data removed]",
            "text/plain": [
              "<Figure size 960x720 with 2 Axes>"
            ]
          },
          "metadata": {},
          "output_type": "display_data"
        }
      ],
      "source": [
        "# Plot of Correlations\n",
        "corr_matrix = df.corr()\n",
        "corr_matrix = corr_matrix.round(5)\n",
        "\n",
        "plt.figure(figsize=[1.5*6.4, 1.5*4.8])\n",
        "sns.heatmap(corr_matrix, annot=True, cmap='coolwarm', fmt=\".2f\", linewidths=.5)\n",
        "plt.title('Correlation Heatmap')\n",
        "plt.show()\n"
      ]
    },
    {
      "cell_type": "code",
      "execution_count": 219,
      "metadata": {},
      "outputs": [
        {
          "data": {
            "image/png": "[encoded data removed]",
            "text/plain": [
              "<Figure size 2000x1000 with 14 Axes>"
            ]
          },
          "metadata": {},
          "output_type": "display_data"
        }
      ],
      "source": [
        "# Plot of Boxplots\n",
        "fig, axs = plt.subplots(ncols=7, nrows=2, figsize=(20, 10))\n",
        "index = 0\n",
        "axs = axs.flatten()\n",
        "for k,v in df.items():\n",
        "    sns.boxplot(y=k, data=df, ax=axs[index])\n",
        "    index += 1\n",
        "plt.tight_layout(pad=0.4, w_pad=0.5, h_pad=5.0)\n"
      ]
    },
    {
      "cell_type": "markdown",
      "metadata": {
        "id": "iXHVlGsMDKm6"
      },
      "source": [
        "### IEEE CS & CIS UFPB\n",
        "\n",
        "Linkedin: https://www.linkedin.com/company/ieee-cs-cis-chapter-at-ufpb/?originalSubdomain=br\n",
        "\n",
        "GitHub Page: https://github.com/CS-CIS-Joint-UFPB\n",
        "\n",
        "Linketree  https://linktr.ee/cs.ufpb"
      ]
    }
  ],
  "metadata": {
    "colab": {
      "provenance": []
    },
    "kernelspec": {
      "display_name": "base",
      "language": "python",
      "name": "python3"
    },
    "language_info": {
      "codemirror_mode": {
        "name": "ipython",
        "version": 3
      },
      "file_extension": ".py",
      "mimetype": "text/x-python",
      "name": "python",
      "nbconvert_exporter": "python",
      "pygments_lexer": "ipython3",
      "version": "3.12.7"
    }
  },
  "nbformat": 4,
  "nbformat_minor": 0
}
