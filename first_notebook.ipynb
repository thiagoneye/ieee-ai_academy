{
  "cells": [
    {
      "cell_type": "markdown",
      "metadata": {
        "id": "DeFyYoobpYvS"
      },
      "source": [
        "# Introdução ao Python para Data Science - Ramo Estudantil IEEE UFPB\n",
        "\n",
        "Este notebook é uma introdução ao uso de Python para Data Science. Vamos cobrir conceitos básicos de Python e introduzir bibliotecas populares usadas em Data Science, como NumPy, Pandas, Matplotlib e Scikit-learn. Cópie o notebook, execute e finalize.\n",
        "\n",
        "## Sumário\n",
        "1. [Introdução ao Python](#section1)\n",
        "2. [NumPy: Arrays e Operações Matemáticas](#section2)\n",
        "3. [Pandas: Manipulação de Dados](#section3)\n",
        "4. [Matplotlib: Visualização de Dados](#section4)\n",
        "5. [Scikit-learn: Introdução ao Machine Learning](#section5)\n",
        "5. [Extra - opcional](#section6)\n",
        "\n",
        "<a name=\"section1\"></a>\n",
        "## 1. Introdução ao Python\n",
        "\n",
        "### 1.1 Variáveis e Tipos de Dados\n",
        "\n",
        "É possível de ver valores com tipagens diferentes"
      ]
    },
    {
      "cell_type": "code",
      "execution_count": 37,
      "metadata": {
        "id": "Sfo7zJboFMmd"
      },
      "outputs": [
        {
          "name": "stdout",
          "output_type": "stream",
          "text": [
            "a: 10  - Tipo: <class 'int'>\n",
            "b: 20.5  - Tipo: <class 'float'>\n",
            "c: Hello, Python!  - Tipo: <class 'str'>\n",
            "d: True  - Tipo: <class 'bool'>\n"
          ]
        }
      ],
      "source": [
        "# Declarando variáveis\n",
        "a = 10       # Inteiro\n",
        "b = 20.5     # Float\n",
        "c = \"Hello, Python!\"  # String\n",
        "d = True     # Booleano\n",
        "\n",
        "print(\"a:\", a, \" - Tipo:\", type(a))\n",
        "print(\"b:\", b, \" - Tipo:\", type(b))\n",
        "print(\"c:\", c, \" - Tipo:\", type(c))\n",
        "print(\"d:\", d, \" - Tipo:\", type(d))\n"
      ]
    },
    {
      "cell_type": "markdown",
      "metadata": {
        "id": "CJDyeqmiwHyl"
      },
      "source": [
        "### 1.2 Estruturas de Dados: tipagem"
      ]
    },
    {
      "cell_type": "code",
      "execution_count": 38,
      "metadata": {
        "id": "SYdPWWNCwIQl"
      },
      "outputs": [
        {
          "name": "stdout",
          "output_type": "stream",
          "text": [
            "Lista: [1, 2, 3, 4, 5]\n",
            "Tupla: (1, 2, 3, 4, 5)\n",
            "Dicionário: {'nome': 'Ana', 'idade': 23, 'cidade': 'São Paulo'}\n",
            "Conjunto: {1, 2, 3, 4, 5}\n"
          ]
        }
      ],
      "source": [
        "# Lista\n",
        "lista = [1, 2, 3, 4, 5]\n",
        "print(\"Lista:\", lista)\n",
        "\n",
        "# Tupla\n",
        "tupla = (1, 2, 3, 4, 5)\n",
        "print(\"Tupla:\", tupla)\n",
        "\n",
        "# Dicionário\n",
        "dicionario = {\"nome\": \"Ana\", \"idade\": 23, \"cidade\": \"São Paulo\"}\n",
        "print(\"Dicionário:\", dicionario)\n",
        "\n",
        "# Conjunto\n",
        "conjunto = {1, 2, 3, 4, 5}\n",
        "print(\"Conjunto:\", conjunto)\n"
      ]
    },
    {
      "cell_type": "markdown",
      "metadata": {
        "id": "6oBEZxuTpkuT"
      },
      "source": [
        "### 1.3 Estruturas de Controle"
      ]
    },
    {
      "cell_type": "code",
      "execution_count": 39,
      "metadata": {
        "id": "DZ1NvafVoY-4"
      },
      "outputs": [
        {
          "name": "stdout",
          "output_type": "stream",
          "text": [
            "a é maior ou igual a b\n",
            "Valor de i: 0\n",
            "Valor de i: 1\n",
            "Valor de i: 2\n",
            "Valor de i: 3\n",
            "Valor de i: 4\n",
            "Contador: 0\n",
            "Contador: 1\n",
            "Contador: 2\n",
            "Contador: 3\n",
            "Contador: 4\n"
          ]
        }
      ],
      "source": [
        "a = 10\n",
        "b = 9\n",
        "\n",
        "# Condicional\n",
        "if a < b:\n",
        "    print(\"a é menor que b\")\n",
        "else:\n",
        "    print(\"a é maior ou igual a b\")\n",
        "\n",
        "# Laço de repetição\n",
        "for i in range(5):\n",
        "    print(\"Valor de i:\", i)\n",
        "\n",
        "# Loop while\n",
        "contador = 0\n",
        "while contador < 5:\n",
        "    print(\"Contador:\", contador)\n",
        "    contador += 1\n"
      ]
    },
    {
      "cell_type": "markdown",
      "metadata": {
        "id": "sS49wH2nr9Bb"
      },
      "source": [
        "### 1.4 Funções"
      ]
    },
    {
      "cell_type": "code",
      "execution_count": 40,
      "metadata": {
        "id": "Q_3-SQR3r9Xa"
      },
      "outputs": [
        {
          "name": "stdout",
          "output_type": "stream",
          "text": [
            "Soma: 8\n",
            "Olá, Ana!\n",
            "Olá, Mundo!\n"
          ]
        }
      ],
      "source": [
        "# Definindo uma função\n",
        "def soma(x, y):\n",
        "    return x + y\n",
        "\n",
        "resultado = soma(5, 3)\n",
        "print(\"Soma:\", resultado)\n",
        "\n",
        "# Função com argumento padrão\n",
        "def saudacao(nome=\"Mundo\"):\n",
        "    print(f\"Olá, {nome}!\")\n",
        "\n",
        "saudacao(\"Ana\")\n",
        "saudacao()\n"
      ]
    },
    {
      "cell_type": "markdown",
      "metadata": {
        "id": "_Ie7Vg0H0AbP"
      },
      "source": [
        "### Desafio 1: Implementação de Estruturas de Dados em Python\n",
        "**Problema**\n",
        "\n",
        "Você foi contratado para implementar uma versão simplificada de uma lista encadeada (LinkedList) em Python. Sua tarefa é criar uma classe para a lista encadeada e adicionar métodos para inserir, remover e buscar elementos.\n",
        "\n",
        "Requisitos\n",
        "\n",
        "1. **Classe Node:**\n",
        "\n",
        "Deve representar um nó na lista encadeada.\n",
        "Deve conter um valor (data) e um ponteiro para o próximo nó (next).\n",
        "\n",
        "2. **Classe LinkedList:**\n",
        "\n",
        "Deve representar a lista encadeada.\n",
        "Deve ter um ponteiro para o nó inicial (head).\n",
        "Métodos a serem implementados:\n",
        "insert(value): Insere um novo nó com o valor especificado no final da lista.\n",
        "remove(value): Remove o nó com o valor especificado da lista.\n",
        "search(value): Retorna True se o valor estiver presente na lista, caso contrário, False.\n",
        "display(): Exibe todos os valores na lista encadeada.\n",
        "\n",
        "\n",
        "--> Exemplo de lista encadeada em C: [link](https://www.ime.usp.br/~pf/algoritmos/aulas/lista.html)\n",
        "\n",
        "--> Exemplo de lista encadeada em python: [link](https://awari.com.br/lista-encadeada-em-python-aprenda-a-estrutura-de-dados-essencial-para-programacao/?utm_source=blog&utm_campaign=projeto+blog&utm_medium=Lista%20Encadeada%20em%20Python:%20Aprenda%20a%20Estrutura%20de%20Dados%20Essencial%20para%20Programa%C3%A7%C3%A3o#:~:text=As%20listas%20encadeadas%20em%20Python,que%20ser%C3%A3o%20armazenados%20na%20lista.)\n"
      ]
    },
    {
      "cell_type": "code",
      "execution_count": 41,
      "metadata": {
        "id": "vvsnlZ5o5YhQ"
      },
      "outputs": [
        {
          "name": "stdout",
          "output_type": "stream",
          "text": [
            "1 -> 2 -> 3 -> None\n",
            "True\n",
            "1 -> 3 -> None\n",
            "False\n"
          ]
        }
      ],
      "source": [
        "# Definindo a classe Node\n",
        "class Node:\n",
        "    def __init__(self, data):\n",
        "        self.data = data\n",
        "        self.next = None\n",
        "\n",
        "# Definindo a classe LinkedList\n",
        "class LinkedList:\n",
        "    def __init__(self):\n",
        "        self.head = None\n",
        "\n",
        "    def insert(self, value):\n",
        "        new_node = Node(value)\n",
        "        if self.head == None:\n",
        "            self.head = new_node\n",
        "        else:\n",
        "            current_node = self.head\n",
        "            while current_node.next:\n",
        "                current_node = current_node.next\n",
        "            current_node.next = new_node\n",
        "    \n",
        "    def display(self):\n",
        "        current_node = self.head\n",
        "        while current_node:\n",
        "            print(f\"{current_node.data} -> \", end=\"\")\n",
        "            current_node = current_node.next\n",
        "        print(\"None\")\n",
        "    \n",
        "    def search(self, value):\n",
        "        current_node = self.head\n",
        "        while current_node.next:\n",
        "            if current_node.data == value:\n",
        "                return True\n",
        "            current_node = current_node.next\n",
        "        return False\n",
        "\n",
        "    def remove(self, value):\n",
        "        current_node = self.head\n",
        "        while current_node.next:\n",
        "            if current_node.next.data == value:\n",
        "                current_node.next = current_node.next.next\n",
        "                break\n",
        "            current_node = current_node.next\n",
        "\n",
        "\n",
        "# Exemplo de uso\n",
        "ll = LinkedList() # Instanciando a classe\n",
        "\n",
        "ll.insert(1) #chamando o método da classe\n",
        "ll.insert(2)\n",
        "ll.insert(3)\n",
        "ll.display()  # Output: 1 -> 2 -> 3 -> None\n",
        "\n",
        "print(ll.search(2))  # Output: True\n",
        "\n",
        "ll.remove(2)\n",
        "ll.display()  # Output: 1 -> 3 -> None\n",
        "print(ll.search(2))  # Output: False\n"
      ]
    },
    {
      "cell_type": "markdown",
      "metadata": {
        "id": "iV_ETOg55KGS"
      },
      "source": [
        "## Desafio 2 - Implementação de Estrutura de Dados: Pilha\n",
        "\n",
        "Neste desafio, você irá implementar a estrutura de dados de uma pilha (stack) em Python. A pilha é uma estrutura de dados que segue o princípio LIFO (Last In, First Out), onde o último elemento adicionado é o primeiro a ser removido.\n",
        "\n",
        "## Tarefas\n",
        "\n",
        "1. **Implementar a Classe `Stack`**:\n",
        "    - A classe `Stack` deve conter os seguintes métodos:\n",
        "        - `__init__`: Inicializa a pilha.\n",
        "        - `push(item)`: Adiciona um item no topo da pilha.\n",
        "        - `pop()`: Remove e retorna o item do topo da pilha.\n",
        "        - `peek()`: Retorna o item do topo da pilha sem removê-lo.\n",
        "        - `is_empty()`: Retorna `True` se a pilha estiver vazia, caso contrário, `False`.\n",
        "        - `size()`: Retorna o número de elementos na pilha.\n",
        "\n",
        "2. **Testar a Classe `Stack`**:\n",
        "    - Crie uma instância da pilha e realize operações de push, pop, peek, e verificação de vazio.\n",
        "    - Verifique se o tamanho da pilha está correto após várias operações."
      ]
    },
    {
      "cell_type": "code",
      "execution_count": 42,
      "metadata": {
        "id": "H_RNZ4mz5VVS"
      },
      "outputs": [],
      "source": [
        "# Preencha o código abaixo para completar cada tarefa.\n",
        "\n",
        "class Stack:\n",
        "    def __init__(self):\n",
        "       self.items = []\n",
        "\n",
        "    def push(self, item):\n",
        "        self.items.append(item)\n",
        "\n",
        "    def pop(self):\n",
        "        if self.is_empty():\n",
        "            return None\n",
        "        return self.items.pop()\n",
        "\n",
        "    def peek(self):\n",
        "        if self.is_empty():\n",
        "            return None\n",
        "        return self.items[-1]\n",
        "\n",
        "    def is_empty(self):\n",
        "        return self.size() == 0\n",
        "\n",
        "    def size(self):\n",
        "        return len(self.items)\n"
      ]
    },
    {
      "cell_type": "code",
      "execution_count": 43,
      "metadata": {
        "id": "yjn4Iiq-6IqZ"
      },
      "outputs": [
        {
          "name": "stdout",
          "output_type": "stream",
          "text": [
            "Pilha após push de 1, 2, 3: [1, 2, 3]\n",
            "Item retirado do topo: 3\n",
            "Pilha após pop: [1, 2]\n",
            "Item no topo da pilha: 2\n",
            "A pilha está vazia? False\n",
            "Tamanho da pilha: 2\n",
            "A pilha está vazia após remover todos os itens? True\n",
            "Tentativa de retirar item da pilha vazia: None\n",
            "Tentativa de ver o item do topo da pilha vazia: None\n"
          ]
        }
      ],
      "source": [
        "# Testando a classe Stack\n",
        "\n",
        "if __name__ == \"__main__\":\n",
        "    stack = Stack()\n",
        "\n",
        "    # Testando push\n",
        "    stack.push(1)\n",
        "    stack.push(2)\n",
        "    stack.push(3)\n",
        "    print(\"Pilha após push de 1, 2, 3:\", stack.items)\n",
        "\n",
        "    # Testando pop\n",
        "    print(\"Item retirado do topo:\", stack.pop())\n",
        "    print(\"Pilha após pop:\", stack.items)\n",
        "\n",
        "    # Testando peek\n",
        "    print(\"Item no topo da pilha:\", stack.peek())\n",
        "\n",
        "    # Testando is_empty\n",
        "    print(\"A pilha está vazia?\", stack.is_empty())\n",
        "\n",
        "    # Testando size\n",
        "    print(\"Tamanho da pilha:\", stack.size())\n",
        "\n",
        "    # Removendo todos os itens e testando operações em pilha vazia\n",
        "    stack.pop()\n",
        "    stack.pop()\n",
        "    print(\"A pilha está vazia após remover todos os itens?\", stack.is_empty())\n",
        "    print(\"Tentativa de retirar item da pilha vazia:\", stack.pop())\n",
        "    print(\"Tentativa de ver o item do topo da pilha vazia:\", stack.peek())"
      ]
    },
    {
      "cell_type": "markdown",
      "metadata": {
        "id": "wnAkFzY8tBjc"
      },
      "source": [
        "<a name=\"section2\"></a>\n",
        "## 2. NumPy: Arrays e Operações Matemáticas\n",
        "\n",
        "NumPy é uma biblioteca fundamental para computação científica em Python. Ela oferece suporte para arrays multidimensionais e matrizes, além de uma coleção de funções matemáticas para operar esses arrays."
      ]
    },
    {
      "cell_type": "markdown",
      "metadata": {
        "id": "rf7SLo_jr947"
      },
      "source": [
        "### 2.1 Criando Arrays"
      ]
    },
    {
      "cell_type": "code",
      "execution_count": 44,
      "metadata": {
        "id": "eyvad4C2r-QC"
      },
      "outputs": [],
      "source": [
        "import numpy as np"
      ]
    },
    {
      "cell_type": "code",
      "execution_count": 45,
      "metadata": {
        "id": "VMgLLchutx1U"
      },
      "outputs": [
        {
          "name": "stdout",
          "output_type": "stream",
          "text": [
            "Array1: [1 2 3 4 5]\n",
            "Array2:\n",
            " [[1 2 3]\n",
            " [4 5 6]]\n",
            "Zeros:\n",
            " [[0. 0. 0.]\n",
            " [0. 0. 0.]]\n",
            "Ones:\n",
            " [[1. 1. 1.]\n",
            " [1. 1. 1.]]\n",
            "Randoms:\n",
            " [[0.53831204 0.69450692 0.66000567]\n",
            " [0.31587837 0.65253228 0.95309891]\n",
            " [0.16564375 0.1458831  0.84328497]]\n"
          ]
        }
      ],
      "source": [
        "# Criando arrays unidimensionais\n",
        "array1 = np.array([1, 2, 3, 4, 5])\n",
        "print(\"Array1:\", array1)\n",
        "\n",
        "# Criando arrays bidimensionais (matrizes)\n",
        "array2 = np.array([[1, 2, 3], [4, 5, 6]])\n",
        "print(\"Array2:\\n\", array2)\n",
        "\n",
        "# Arrays de zeros e uns\n",
        "zeros = np.zeros((2, 3))\n",
        "print(\"Zeros:\\n\", zeros)\n",
        "\n",
        "ones = np.ones((2, 3))\n",
        "print(\"Ones:\\n\", ones)\n",
        "\n",
        "# Arrays com valores aleatórios\n",
        "randoms = np.random.rand(3, 3)\n",
        "print(\"Randoms:\\n\", randoms)\n"
      ]
    },
    {
      "cell_type": "markdown",
      "metadata": {
        "id": "hnIMidN1sKp8"
      },
      "source": [
        "### 2.2 Operações com Arrays\n",
        "NumPy facilita a execução de operações matemáticas em arrays de forma elementar."
      ]
    },
    {
      "cell_type": "code",
      "execution_count": 46,
      "metadata": {
        "id": "QnAPabigtEB1"
      },
      "outputs": [
        {
          "name": "stdout",
          "output_type": "stream",
          "text": [
            "Soma com escalar: [ 6  7  8  9 10]\n",
            "Produto com escalar: [ 2  4  6  8 10]\n",
            "Soma de arrays: [ 7  9 11 13 15]\n",
            "Produto de arrays: [ 6 14 24 36 50]\n"
          ]
        }
      ],
      "source": [
        "# Operações elementares\n",
        "soma = array1 + 5\n",
        "print(\"Soma com escalar:\", soma)\n",
        "\n",
        "produto = array1 * 2\n",
        "print(\"Produto com escalar:\", produto)\n",
        "\n",
        "# Operações entre arrays\n",
        "array3 = np.array([6, 7, 8, 9, 10])\n",
        "soma_arrays = array1 + array3\n",
        "print(\"Soma de arrays:\", soma_arrays)\n",
        "\n",
        "produto_arrays = array1 * array3\n",
        "print(\"Produto de arrays:\", produto_arrays)\n"
      ]
    },
    {
      "cell_type": "markdown",
      "metadata": {
        "id": "QsVMIqw5yGcW"
      },
      "source": [
        "2.3 Propriedades dos Arrays"
      ]
    },
    {
      "cell_type": "code",
      "execution_count": 47,
      "metadata": {
        "id": "8ervU-aGyGx2"
      },
      "outputs": [
        {
          "name": "stdout",
          "output_type": "stream",
          "text": [
            "Formato do array1: (5,)\n",
            "Tamanho do array1: 5\n",
            "Formato do array2: (2, 3)\n",
            "Tamanho do array2: 6\n"
          ]
        }
      ],
      "source": [
        "# Formato e tamanho dos arrays\n",
        "print(\"Formato do array1:\", array1.shape)\n",
        "print(\"Tamanho do array1:\", array1.size)\n",
        "\n",
        "print(\"Formato do array2:\", array2.shape)\n",
        "print(\"Tamanho do array2:\", array2.size)\n"
      ]
    },
    {
      "cell_type": "markdown",
      "metadata": {
        "id": "2fdquWUQyZte"
      },
      "source": [
        "### 2.4 Funções Matemáticas\n",
        "NumPy inclui uma variedade de funções matemáticas para operar em arrays."
      ]
    },
    {
      "cell_type": "code",
      "execution_count": 48,
      "metadata": {
        "id": "o8MFNBonybIg"
      },
      "outputs": [
        {
          "name": "stdout",
          "output_type": "stream",
          "text": [
            "Média do array1: 3.0\n",
            "Desvio padrão do array1: 1.4142135623730951\n",
            "Soma dos elementos do array1: 15\n",
            "Produto dos elementos do array1: 120\n",
            "Senos dos ângulos: [0.0000000e+00 1.0000000e+00 1.2246468e-16]\n",
            "Exponencial: [  2.71828183   7.3890561   20.08553692  54.59815003 148.4131591 ]\n",
            "Logaritmo: [0.         0.69314718 1.09861229 1.38629436 1.60943791]\n"
          ]
        }
      ],
      "source": [
        "# Funções matemáticas\n",
        "print(\"Média do array1:\", np.mean(array1))\n",
        "print(\"Desvio padrão do array1:\", np.std(array1))\n",
        "print(\"Soma dos elementos do array1:\", np.sum(array1))\n",
        "print(\"Produto dos elementos do array1:\", np.prod(array1))\n",
        "\n",
        "# Funções trigonometricas\n",
        "angulos = np.array([0, np.pi/2, np.pi])\n",
        "senos = np.sin(angulos)\n",
        "print(\"Senos dos ângulos:\", senos)\n",
        "\n",
        "# Exponencial e logaritmo\n",
        "exp = np.exp(array1)\n",
        "print(\"Exponencial:\", exp)\n",
        "\n",
        "log = np.log(array1)\n",
        "print(\"Logaritmo:\", log)\n"
      ]
    },
    {
      "cell_type": "markdown",
      "metadata": {
        "id": "K-q3BywhykTW"
      },
      "source": [
        "### 2.5 Indexação e Fatiamento\n",
        "\n",
        "Arrays NumPy podem ser indexados e fatiados de forma similar às listas."
      ]
    },
    {
      "cell_type": "code",
      "execution_count": 49,
      "metadata": {
        "id": "gHu3Xdg-ymMO"
      },
      "outputs": [
        {
          "name": "stdout",
          "output_type": "stream",
          "text": [
            "Primeiro elemento do array1: 1\n",
            "Último elemento do array1: 5\n",
            "Elementos do array1 do índice 1 ao 3: [2 3 4]\n",
            "Primeira linha do array2:\n",
            " [1 2 3]\n",
            "Segunda coluna do array2:\n",
            " [2 5]\n"
          ]
        }
      ],
      "source": [
        "# Indexação\n",
        "print(\"Primeiro elemento do array1:\", array1[0])\n",
        "print(\"Último elemento do array1:\", array1[-1])\n",
        "\n",
        "# Fatiamento\n",
        "print(\"Elementos do array1 do índice 1 ao 3:\", array1[1:4])\n",
        "\n",
        "# Fatiamento de arrays bidimensionais\n",
        "print(\"Primeira linha do array2:\\n\", array2[0, :])\n",
        "print(\"Segunda coluna do array2:\\n\", array2[:, 1])\n"
      ]
    },
    {
      "cell_type": "markdown",
      "metadata": {
        "id": "vope5WJYy1HG"
      },
      "source": [
        "### 2.6 Alterando a Forma dos Arrays\n",
        "NumPy permite alterar a forma dos arrays sem alterar os dados."
      ]
    },
    {
      "cell_type": "code",
      "execution_count": 50,
      "metadata": {
        "id": "q4kGjwmSy0t-"
      },
      "outputs": [
        {
          "name": "stdout",
          "output_type": "stream",
          "text": [
            "Array2 reshaped para (3, 2):\n",
            " [[1 2]\n",
            " [3 4]\n",
            " [5 6]]\n",
            "Array2 flatten:\n",
            " [1 2 3 4 5 6]\n"
          ]
        }
      ],
      "source": [
        "# Redimensionando arrays\n",
        "array_reshaped = array2.reshape((3, 2))\n",
        "print(\"Array2 reshaped para (3, 2):\\n\", array_reshaped)\n",
        "\n",
        "# Flatten\n",
        "array_flat = array2.flatten()\n",
        "print(\"Array2 flatten:\\n\", array_flat)\n"
      ]
    },
    {
      "cell_type": "markdown",
      "metadata": {
        "id": "jgUscla8zmeW"
      },
      "source": [
        "## Desafio de Implementação de Uso de NumPy\n",
        "\n",
        "Neste desafio, você usará a biblioteca NumPy para realizar operações matemáticas e manipulações de arrays. Você precisa completar as tarefas abaixo usando NumPy.\n",
        "\n",
        "## Tarefas\n",
        "\n",
        "1. **Criar Arrays**\n",
        "    - Crie um array unidimensional (`array1`) contendo os números de 0 a 9.\n",
        "    - Crie um array bidimensional (`array2`) de tamanho 3x3 contendo números aleatórios entre 0 e 1.\n",
        "\n",
        "2. **Operações Matemáticas**\n",
        "    - Calcule a soma de todos os elementos de `array1`.\n",
        "    - Calcule a média dos elementos de `array2`.\n",
        "    - Calcule a matriz transposta de `array2`.\n",
        "\n",
        "3. **Manipulação de Arrays**\n",
        "    - Redimensione `array1` para um array bidimensional de tamanho 2x5 (`array1_reshaped`).\n",
        "    - Extraia a segunda coluna de `array2`.\n",
        "\n",
        "4. **Operações Avançadas**\n",
        "    - Crie uma máscara booleana para `array1` onde os valores são maiores que 5.\n",
        "    - Use a máscara para filtrar os elementos de `array1` que são maiores que 5.\n",
        "    - Calcule o produto dot (produto escalar) de `array1_reshaped` com sua transposta.\n",
        "\n",
        "### Instruções\n",
        "\n",
        "Preencha o código abaixo para completar cada tarefa. Use as funções e métodos do NumPy para realizar as operações necessárias."
      ]
    },
    {
      "cell_type": "code",
      "execution_count": null,
      "metadata": {
        "id": "QWuyHgzkzpAI"
      },
      "outputs": [
        {
          "name": "stdout",
          "output_type": "stream",
          "text": [
            "O array1 é [0 1 2 3 4 5 6 7 8 9].\n",
            "\n",
            "O array2 é \n",
            "[[0.33885064 0.39398569 0.83991602]\n",
            " [0.16752471 0.80961985 0.16944737]\n",
            " [0.94677409 0.42456358 0.91050378]].\n",
            "\n",
            "A somo dos elementos de array1 é 45.\n",
            "\n",
            "A média dos elementos do array2 é 0.55569\n",
            "\n",
            "A matriz transposta de array2 é \n",
            "[[0.33885064 0.16752471 0.94677409]\n",
            " [0.39398569 0.80961985 0.42456358]\n",
            " [0.83991602 0.16944737 0.91050378]]\n",
            "\n",
            "O redimensionamento do array1 para 2x5 é \n",
            "[[0 1 2 3 4]\n",
            " [5 6 7 8 9]]\n",
            "\n",
            "A segunda coluna do array2 é \n",
            "[0.39398569 0.80961985 0.42456358]\n",
            "\n",
            "A máscara booleana do array1 onde os valores são maiores que 5 é [False False False False False False  True  True  True  True].\n",
            "\n",
            "Os valores do array1 maiores do que 5 são [6 7 8 9].\n",
            "\n",
            "O produto de array1_reshaped com sua transposta é \n",
            "[[ 30  80]\n",
            " [ 80 255]].\n"
          ]
        }
      ],
      "source": [
        "import numpy as np\n",
        "\n",
        "\n",
        "# 1. Criar Arrays\n",
        "# Crie um array unidimensional contendo os números de 0 a 9\n",
        "array1 = np.arange(0,10)\n",
        "print(f\"O array1 é {array1}.\")\n",
        "\n",
        "# Crie um array bidimensional de tamanho 3x3 contendo números aleatórios entre 0 e 1\n",
        "array2 = np.random.rand(3,3)\n",
        "print(f\"\\nO array2 é \\n{array2}\")\n",
        "\n",
        "# 2. Operações Matemáticas\n",
        "# Calcule a soma de todos os elementos de array1\n",
        "print(f\"\\nA somo dos elementos de array1 é {sum(array1)}.\")\n",
        "\n",
        "# Calcule a média dos elementos de array2\n",
        "print(f\"\\nA média dos elementos do array2 é {round(np.mean(array2), 5)}\")\n",
        "\n",
        "# Calcule a matriz transposta de array2\n",
        "print(f\"\\nA matriz transposta de array2 é \\n{array2.T}\")\n",
        "\n",
        "# 3. Manipulação de Arrays\n",
        "# Redimensione array1 para um array bidimensional de tamanho 2x5\n",
        "array1_reshaped = array1.reshape(2,5)\n",
        "print(f\"\\nO redimensionamento do array1 para 2x5 é \\n{array1_reshaped}\")\n",
        "\n",
        "# Extraia a segunda coluna de array2\n",
        "print(f\"\\nA segunda coluna do array2 é \\n{array2[:,1]}\")\n",
        "\n",
        "# 4. Operações Avançadas\n",
        "# Crie uma máscara booleana para array1 onde os valores são maiores que 5\n",
        "array1_mask = array1 > 5\n",
        "print(f\"\\nA máscara booleana do array1 onde os valores são maiores que 5 é {array1_mask}.\")\n",
        "\n",
        "# Use a máscara para filtrar os elementos de array1 que são maiores que 5\n",
        "print(f\"\\nOs valores do array1 maiores do que 5 são {array1[array1_mask]}.\")\n",
        "\n",
        "# Calcule o produto dot (produto escalar) de array1_reshaped com sua transposta\n",
        "array_dot = array1_reshaped @ array1_reshaped.T\n",
        "print(f\"\\nO produto de array1_reshaped com sua transposta é \\n{array_dot}\")\n"
      ]
    },
    {
      "cell_type": "markdown",
      "metadata": {
        "id": "v1LstBurtMgF"
      },
      "source": [
        "<a name=\"section3\"></a>\n",
        "## 3. Pandas: Manipulação de Dados\n",
        "\n",
        "Pandas é uma biblioteca poderosa para análise e manipulação de dados. Ela fornece estruturas de dados flexíveis, como DataFrames, que facilitam o trabalho com dados estruturados"
      ]
    },
    {
      "cell_type": "markdown",
      "metadata": {
        "id": "iaOc6HzitUsU"
      },
      "source": [
        "### 3.1 Criando DataFrames"
      ]
    },
    {
      "cell_type": "code",
      "execution_count": 52,
      "metadata": {
        "id": "rHE1miI5tU_N"
      },
      "outputs": [],
      "source": [
        "import pandas as pd"
      ]
    },
    {
      "cell_type": "code",
      "execution_count": 53,
      "metadata": {
        "id": "0uquYmqXvb5d"
      },
      "outputs": [
        {
          "name": "stdout",
          "output_type": "stream",
          "text": [
            "    Nome  Idade          Cidade\n",
            "0    Ana     23       São Paulo\n",
            "1   João     34  Rio de Janeiro\n",
            "2  Maria     29  Belo Horizonte\n"
          ]
        }
      ],
      "source": [
        "# Criando um DataFrame\n",
        "data = {'Nome': ['Ana', 'João', 'Maria'],\n",
        "        'Idade': [23, 34, 29],\n",
        "        'Cidade': ['São Paulo', 'Rio de Janeiro', 'Belo Horizonte']}\n",
        "df = pd.DataFrame(data)\n",
        "print(df)\n"
      ]
    },
    {
      "cell_type": "markdown",
      "metadata": {
        "id": "FbwhGA02tVYc"
      },
      "source": [
        "### 3.2 Operações com DataFrames"
      ]
    },
    {
      "cell_type": "code",
      "execution_count": 54,
      "metadata": {
        "id": "IJovOv1FtVvU"
      },
      "outputs": [
        {
          "name": "stdout",
          "output_type": "stream",
          "text": [
            "Idades: 0    23\n",
            "1    34\n",
            "2    29\n",
            "Name: Idade, dtype: int64\n",
            "Pessoas com idade maior que 25:     Nome  Idade          Cidade\n",
            "1   João     34  Rio de Janeiro\n",
            "2  Maria     29  Belo Horizonte\n",
            "Estatísticas:            Idade\n",
            "count   3.000000\n",
            "mean   28.666667\n",
            "std     5.507571\n",
            "min    23.000000\n",
            "25%    26.000000\n",
            "50%    29.000000\n",
            "75%    31.500000\n",
            "max    34.000000\n"
          ]
        }
      ],
      "source": [
        "# Selecionando colunas\n",
        "print(\"Idades:\", df['Idade'])\n",
        "\n",
        "# Filtrando linhas\n",
        "print(\"Pessoas com idade maior que 25:\", df[df['Idade'] > 25])\n",
        "\n",
        "# Estatísticas descritivas\n",
        "print(\"Estatísticas:\", df.describe())\n"
      ]
    },
    {
      "cell_type": "markdown",
      "metadata": {
        "id": "_hBPKUxO0lMY"
      },
      "source": [
        "## Desafio 2: Uso de Pandas\n",
        "**Problema**\n",
        "\n",
        "Você recebeu um arquivo CSV contendo informações sobre as vendas de uma loja. Sua tarefa é usar a biblioteca Pandas para realizar algumas análises e operações nos dados.\n",
        "\n",
        "Requisitos\n",
        "\n",
        "1. **Carregar o arquivo CSV:**\n",
        "\n",
        "O arquivo se chama vendas.csv e contém as colunas: Data, Produto, Vendas, Custo.\n",
        "\n",
        "2. **Análises e Operações**:\n",
        "\n",
        "Carregar os dados do CSV em um DataFrame.\n",
        "Exibir as 5 primeiras linhas do DataFrame.\n",
        "Calcular o lucro para cada venda (Lucro = Vendas - Custo) e adicionar uma nova coluna Lucro ao DataFrame.\n",
        "Calcular o total de vendas e o total de lucro por produto.\n",
        "Filtrar e exibir apenas as vendas que tiveram lucro maior que 50.\n",
        "Criar um gráfico de barras mostrando o total de vendas por produto.\n",
        "\n",
        "```python\n",
        "Output exemplo\n",
        "\n",
        "Data,Produto,Vendas,Custo\n",
        "\n",
        "2024-01-01,Produto A,100,70\n",
        "2024-01-02,Produto B,150,90\n",
        "2024-01-03,Produto A,200,100\n",
        "2024-01-04,Produto C,50,30\n",
        "2024-01-05,Produto B,120,60\n",
        "```\n",
        "\n",
        "Link para baixar o [arquivo CSV de vendas](https://drive.google.com/file/d/1K8gtX2kQgBy8dTMpte-HKXuqFNRMgtU8/view?usp=sharing)\n",
        "\n"
      ]
    },
    {
      "cell_type": "code",
      "execution_count": null,
      "metadata": {
        "id": "LTmyuJSE_JB6"
      },
      "outputs": [],
      "source": []
    },
    {
      "cell_type": "markdown",
      "metadata": {
        "id": "jMwP5Qfi-CxZ"
      },
      "source": [
        "\n",
        "\n",
        "\n",
        "---\n",
        "\n",
        "\n",
        "Passo a Passo para Gerar Relatórios em Pandas\n",
        "#### 1. Importar a Biblioteca Pandas\n",
        "Primeiro, precisamos importar a biblioteca Pandas. Se você estiver usando o Google Colab, ela já vem pré-instalada.\n",
        "\n"
      ]
    },
    {
      "cell_type": "code",
      "execution_count": 55,
      "metadata": {
        "id": "f6I-6pn9-r0S"
      },
      "outputs": [],
      "source": [
        "import pandas as pd"
      ]
    },
    {
      "cell_type": "markdown",
      "metadata": {
        "id": "AxuhQe75_EtZ"
      },
      "source": [
        "2. Carregar os Dados\n",
        "Vamos supor que temos um arquivo CSV chamado vendas.csv com as seguintes colunas: Data, Produto, Vendas, Custo."
      ]
    },
    {
      "cell_type": "code",
      "execution_count": 56,
      "metadata": {
        "id": "PAfgk67y-BT5"
      },
      "outputs": [
        {
          "ename": "FileNotFoundError",
          "evalue": "[Errno 2] No such file or directory: 'vendas.csv'",
          "output_type": "error",
          "traceback": [
            "\u001b[0;31m---------------------------------------------------------------------------\u001b[0m",
            "\u001b[0;31mFileNotFoundError\u001b[0m                         Traceback (most recent call last)",
            "Cell \u001b[0;32mIn[56], line 2\u001b[0m\n\u001b[1;32m      1\u001b[0m \u001b[38;5;66;03m# Carregar os dados do CSV\u001b[39;00m\n\u001b[0;32m----> 2\u001b[0m df \u001b[38;5;241m=\u001b[39m pd\u001b[38;5;241m.\u001b[39mread_csv(\u001b[38;5;124m'\u001b[39m\u001b[38;5;124mvendas.csv\u001b[39m\u001b[38;5;124m'\u001b[39m)\n",
            "File \u001b[0;32m~/anaconda3/lib/python3.12/site-packages/pandas/io/parsers/readers.py:1026\u001b[0m, in \u001b[0;36mread_csv\u001b[0;34m(filepath_or_buffer, sep, delimiter, header, names, index_col, usecols, dtype, engine, converters, true_values, false_values, skipinitialspace, skiprows, skipfooter, nrows, na_values, keep_default_na, na_filter, verbose, skip_blank_lines, parse_dates, infer_datetime_format, keep_date_col, date_parser, date_format, dayfirst, cache_dates, iterator, chunksize, compression, thousands, decimal, lineterminator, quotechar, quoting, doublequote, escapechar, comment, encoding, encoding_errors, dialect, on_bad_lines, delim_whitespace, low_memory, memory_map, float_precision, storage_options, dtype_backend)\u001b[0m\n\u001b[1;32m   1013\u001b[0m kwds_defaults \u001b[38;5;241m=\u001b[39m _refine_defaults_read(\n\u001b[1;32m   1014\u001b[0m     dialect,\n\u001b[1;32m   1015\u001b[0m     delimiter,\n\u001b[0;32m   (...)\u001b[0m\n\u001b[1;32m   1022\u001b[0m     dtype_backend\u001b[38;5;241m=\u001b[39mdtype_backend,\n\u001b[1;32m   1023\u001b[0m )\n\u001b[1;32m   1024\u001b[0m kwds\u001b[38;5;241m.\u001b[39mupdate(kwds_defaults)\n\u001b[0;32m-> 1026\u001b[0m \u001b[38;5;28;01mreturn\u001b[39;00m _read(filepath_or_buffer, kwds)\n",
            "File \u001b[0;32m~/anaconda3/lib/python3.12/site-packages/pandas/io/parsers/readers.py:620\u001b[0m, in \u001b[0;36m_read\u001b[0;34m(filepath_or_buffer, kwds)\u001b[0m\n\u001b[1;32m    617\u001b[0m _validate_names(kwds\u001b[38;5;241m.\u001b[39mget(\u001b[38;5;124m\"\u001b[39m\u001b[38;5;124mnames\u001b[39m\u001b[38;5;124m\"\u001b[39m, \u001b[38;5;28;01mNone\u001b[39;00m))\n\u001b[1;32m    619\u001b[0m \u001b[38;5;66;03m# Create the parser.\u001b[39;00m\n\u001b[0;32m--> 620\u001b[0m parser \u001b[38;5;241m=\u001b[39m TextFileReader(filepath_or_buffer, \u001b[38;5;241m*\u001b[39m\u001b[38;5;241m*\u001b[39mkwds)\n\u001b[1;32m    622\u001b[0m \u001b[38;5;28;01mif\u001b[39;00m chunksize \u001b[38;5;129;01mor\u001b[39;00m iterator:\n\u001b[1;32m    623\u001b[0m     \u001b[38;5;28;01mreturn\u001b[39;00m parser\n",
            "File \u001b[0;32m~/anaconda3/lib/python3.12/site-packages/pandas/io/parsers/readers.py:1620\u001b[0m, in \u001b[0;36mTextFileReader.__init__\u001b[0;34m(self, f, engine, **kwds)\u001b[0m\n\u001b[1;32m   1617\u001b[0m     \u001b[38;5;28mself\u001b[39m\u001b[38;5;241m.\u001b[39moptions[\u001b[38;5;124m\"\u001b[39m\u001b[38;5;124mhas_index_names\u001b[39m\u001b[38;5;124m\"\u001b[39m] \u001b[38;5;241m=\u001b[39m kwds[\u001b[38;5;124m\"\u001b[39m\u001b[38;5;124mhas_index_names\u001b[39m\u001b[38;5;124m\"\u001b[39m]\n\u001b[1;32m   1619\u001b[0m \u001b[38;5;28mself\u001b[39m\u001b[38;5;241m.\u001b[39mhandles: IOHandles \u001b[38;5;241m|\u001b[39m \u001b[38;5;28;01mNone\u001b[39;00m \u001b[38;5;241m=\u001b[39m \u001b[38;5;28;01mNone\u001b[39;00m\n\u001b[0;32m-> 1620\u001b[0m \u001b[38;5;28mself\u001b[39m\u001b[38;5;241m.\u001b[39m_engine \u001b[38;5;241m=\u001b[39m \u001b[38;5;28mself\u001b[39m\u001b[38;5;241m.\u001b[39m_make_engine(f, \u001b[38;5;28mself\u001b[39m\u001b[38;5;241m.\u001b[39mengine)\n",
            "File \u001b[0;32m~/anaconda3/lib/python3.12/site-packages/pandas/io/parsers/readers.py:1880\u001b[0m, in \u001b[0;36mTextFileReader._make_engine\u001b[0;34m(self, f, engine)\u001b[0m\n\u001b[1;32m   1878\u001b[0m     \u001b[38;5;28;01mif\u001b[39;00m \u001b[38;5;124m\"\u001b[39m\u001b[38;5;124mb\u001b[39m\u001b[38;5;124m\"\u001b[39m \u001b[38;5;129;01mnot\u001b[39;00m \u001b[38;5;129;01min\u001b[39;00m mode:\n\u001b[1;32m   1879\u001b[0m         mode \u001b[38;5;241m+\u001b[39m\u001b[38;5;241m=\u001b[39m \u001b[38;5;124m\"\u001b[39m\u001b[38;5;124mb\u001b[39m\u001b[38;5;124m\"\u001b[39m\n\u001b[0;32m-> 1880\u001b[0m \u001b[38;5;28mself\u001b[39m\u001b[38;5;241m.\u001b[39mhandles \u001b[38;5;241m=\u001b[39m get_handle(\n\u001b[1;32m   1881\u001b[0m     f,\n\u001b[1;32m   1882\u001b[0m     mode,\n\u001b[1;32m   1883\u001b[0m     encoding\u001b[38;5;241m=\u001b[39m\u001b[38;5;28mself\u001b[39m\u001b[38;5;241m.\u001b[39moptions\u001b[38;5;241m.\u001b[39mget(\u001b[38;5;124m\"\u001b[39m\u001b[38;5;124mencoding\u001b[39m\u001b[38;5;124m\"\u001b[39m, \u001b[38;5;28;01mNone\u001b[39;00m),\n\u001b[1;32m   1884\u001b[0m     compression\u001b[38;5;241m=\u001b[39m\u001b[38;5;28mself\u001b[39m\u001b[38;5;241m.\u001b[39moptions\u001b[38;5;241m.\u001b[39mget(\u001b[38;5;124m\"\u001b[39m\u001b[38;5;124mcompression\u001b[39m\u001b[38;5;124m\"\u001b[39m, \u001b[38;5;28;01mNone\u001b[39;00m),\n\u001b[1;32m   1885\u001b[0m     memory_map\u001b[38;5;241m=\u001b[39m\u001b[38;5;28mself\u001b[39m\u001b[38;5;241m.\u001b[39moptions\u001b[38;5;241m.\u001b[39mget(\u001b[38;5;124m\"\u001b[39m\u001b[38;5;124mmemory_map\u001b[39m\u001b[38;5;124m\"\u001b[39m, \u001b[38;5;28;01mFalse\u001b[39;00m),\n\u001b[1;32m   1886\u001b[0m     is_text\u001b[38;5;241m=\u001b[39mis_text,\n\u001b[1;32m   1887\u001b[0m     errors\u001b[38;5;241m=\u001b[39m\u001b[38;5;28mself\u001b[39m\u001b[38;5;241m.\u001b[39moptions\u001b[38;5;241m.\u001b[39mget(\u001b[38;5;124m\"\u001b[39m\u001b[38;5;124mencoding_errors\u001b[39m\u001b[38;5;124m\"\u001b[39m, \u001b[38;5;124m\"\u001b[39m\u001b[38;5;124mstrict\u001b[39m\u001b[38;5;124m\"\u001b[39m),\n\u001b[1;32m   1888\u001b[0m     storage_options\u001b[38;5;241m=\u001b[39m\u001b[38;5;28mself\u001b[39m\u001b[38;5;241m.\u001b[39moptions\u001b[38;5;241m.\u001b[39mget(\u001b[38;5;124m\"\u001b[39m\u001b[38;5;124mstorage_options\u001b[39m\u001b[38;5;124m\"\u001b[39m, \u001b[38;5;28;01mNone\u001b[39;00m),\n\u001b[1;32m   1889\u001b[0m )\n\u001b[1;32m   1890\u001b[0m \u001b[38;5;28;01massert\u001b[39;00m \u001b[38;5;28mself\u001b[39m\u001b[38;5;241m.\u001b[39mhandles \u001b[38;5;129;01mis\u001b[39;00m \u001b[38;5;129;01mnot\u001b[39;00m \u001b[38;5;28;01mNone\u001b[39;00m\n\u001b[1;32m   1891\u001b[0m f \u001b[38;5;241m=\u001b[39m \u001b[38;5;28mself\u001b[39m\u001b[38;5;241m.\u001b[39mhandles\u001b[38;5;241m.\u001b[39mhandle\n",
            "File \u001b[0;32m~/anaconda3/lib/python3.12/site-packages/pandas/io/common.py:873\u001b[0m, in \u001b[0;36mget_handle\u001b[0;34m(path_or_buf, mode, encoding, compression, memory_map, is_text, errors, storage_options)\u001b[0m\n\u001b[1;32m    868\u001b[0m \u001b[38;5;28;01melif\u001b[39;00m \u001b[38;5;28misinstance\u001b[39m(handle, \u001b[38;5;28mstr\u001b[39m):\n\u001b[1;32m    869\u001b[0m     \u001b[38;5;66;03m# Check whether the filename is to be opened in binary mode.\u001b[39;00m\n\u001b[1;32m    870\u001b[0m     \u001b[38;5;66;03m# Binary mode does not support 'encoding' and 'newline'.\u001b[39;00m\n\u001b[1;32m    871\u001b[0m     \u001b[38;5;28;01mif\u001b[39;00m ioargs\u001b[38;5;241m.\u001b[39mencoding \u001b[38;5;129;01mand\u001b[39;00m \u001b[38;5;124m\"\u001b[39m\u001b[38;5;124mb\u001b[39m\u001b[38;5;124m\"\u001b[39m \u001b[38;5;129;01mnot\u001b[39;00m \u001b[38;5;129;01min\u001b[39;00m ioargs\u001b[38;5;241m.\u001b[39mmode:\n\u001b[1;32m    872\u001b[0m         \u001b[38;5;66;03m# Encoding\u001b[39;00m\n\u001b[0;32m--> 873\u001b[0m         handle \u001b[38;5;241m=\u001b[39m \u001b[38;5;28mopen\u001b[39m(\n\u001b[1;32m    874\u001b[0m             handle,\n\u001b[1;32m    875\u001b[0m             ioargs\u001b[38;5;241m.\u001b[39mmode,\n\u001b[1;32m    876\u001b[0m             encoding\u001b[38;5;241m=\u001b[39mioargs\u001b[38;5;241m.\u001b[39mencoding,\n\u001b[1;32m    877\u001b[0m             errors\u001b[38;5;241m=\u001b[39merrors,\n\u001b[1;32m    878\u001b[0m             newline\u001b[38;5;241m=\u001b[39m\u001b[38;5;124m\"\u001b[39m\u001b[38;5;124m\"\u001b[39m,\n\u001b[1;32m    879\u001b[0m         )\n\u001b[1;32m    880\u001b[0m     \u001b[38;5;28;01melse\u001b[39;00m:\n\u001b[1;32m    881\u001b[0m         \u001b[38;5;66;03m# Binary mode\u001b[39;00m\n\u001b[1;32m    882\u001b[0m         handle \u001b[38;5;241m=\u001b[39m \u001b[38;5;28mopen\u001b[39m(handle, ioargs\u001b[38;5;241m.\u001b[39mmode)\n",
            "\u001b[0;31mFileNotFoundError\u001b[0m: [Errno 2] No such file or directory: 'vendas.csv'"
          ]
        }
      ],
      "source": [
        "# Carregar os dados do CSV\n",
        "df = pd.read_csv('vendas.csv')\n"
      ]
    },
    {
      "cell_type": "markdown",
      "metadata": {
        "id": "oUt1qGd__NYR"
      },
      "source": [
        "#### 3. Exibir as Primeiras Linhas do DataFrame\n",
        "Após carregar os dados, é uma boa prática visualizar as primeiras linhas para entender a estrutura do DataFrame."
      ]
    },
    {
      "cell_type": "code",
      "execution_count": null,
      "metadata": {
        "id": "pzdmPy_A_PxB"
      },
      "outputs": [],
      "source": [
        "print(df.head())\n"
      ]
    },
    {
      "cell_type": "markdown",
      "metadata": {
        "id": "QMwRE252_Q_x"
      },
      "source": [
        "#### 4. Entender a Estrutura dos Dados\n",
        "Para entender melhor a estrutura dos dados, você pode usar os métodos info() e describe()."
      ]
    },
    {
      "cell_type": "code",
      "execution_count": null,
      "metadata": {
        "id": "das08p4c_TUh"
      },
      "outputs": [],
      "source": [
        "print(df.info())\n",
        "print(df.describe())\n"
      ]
    },
    {
      "cell_type": "markdown",
      "metadata": {
        "id": "k4nxwrns_U4Z"
      },
      "source": [
        "#### 5. Manipular os Dados\n",
        "Agora vamos fazer algumas manipulações comuns, como adicionar colunas, filtrar dados, agrupar dados, etc.\n",
        "\n",
        "**Adicionar Coluna de Lucro**\n",
        "\n",
        "Vamos adicionar uma coluna de lucro, que é a diferença entre Vendas e Custo."
      ]
    },
    {
      "cell_type": "code",
      "execution_count": null,
      "metadata": {
        "id": "aHtO2ZZG_XvZ"
      },
      "outputs": [],
      "source": [
        "df['Lucro'] = df['Vendas'] - df['Custo']\n",
        "print(df.head())\n"
      ]
    },
    {
      "cell_type": "markdown",
      "metadata": {
        "id": "t_HYvTav_aw5"
      },
      "source": [
        "**Filtrar Dados**\n",
        "\n",
        "Vamos filtrar as vendas que tiveram lucro maior que 50."
      ]
    },
    {
      "cell_type": "code",
      "execution_count": null,
      "metadata": {
        "id": "BIAhoPdJ_bai"
      },
      "outputs": [],
      "source": [
        "lucro_maior_50 = df[df['Lucro'] > 50]\n",
        "print(lucro_maior_50)\n"
      ]
    },
    {
      "cell_type": "markdown",
      "metadata": {
        "id": "nA7jotxq_c05"
      },
      "source": [
        "**Agrupar Dados**\n",
        "\n",
        "Vamos calcular o total de vendas e lucro por produto."
      ]
    },
    {
      "cell_type": "code",
      "execution_count": null,
      "metadata": {
        "id": "rWbZhJ16_fQZ"
      },
      "outputs": [],
      "source": [
        "relatorio_produtos = df.groupby('Produto')[['Vendas', 'Lucro']].sum()\n",
        "print(relatorio_produtos)\n"
      ]
    },
    {
      "cell_type": "markdown",
      "metadata": {
        "id": "uvCMf8o2_j8p"
      },
      "source": [
        "#### 6. Gerar Relatórios\n",
        "Com os dados manipulados, podemos criar relatórios. Vamos gerar um relatório simples de vendas totais por produto e salvar como um novo CSV.\n",
        "\n",
        "**Relatório de Vendas por Produto**"
      ]
    },
    {
      "cell_type": "code",
      "execution_count": null,
      "metadata": {
        "id": "sBZS4DbD_i_x"
      },
      "outputs": [],
      "source": [
        "relatorio_vendas = df.groupby('Produto')['Vendas'].sum().reset_index()\n",
        "relatorio_vendas.columns = ['Produto', 'Total de Vendas']\n",
        "print(relatorio_vendas)\n",
        "\n",
        "# Salvar o relatório em um novo arquivo CSV\n",
        "relatorio_vendas.to_csv('relatorio_vendas_por_produto.csv', index=False)\n"
      ]
    },
    {
      "cell_type": "markdown",
      "metadata": {
        "id": "Kh36gKQAAI2R"
      },
      "source": [
        "#### 7. Relatórios com Estatísticas\n",
        "Podemos calcular algumas estatísticas básicas e adicionar ao relatório."
      ]
    },
    {
      "cell_type": "code",
      "execution_count": null,
      "metadata": {
        "id": "_ZEXwMvHAJjh"
      },
      "outputs": [],
      "source": [
        "estatisticas_vendas = df.describe()[['Vendas', 'Lucro']]\n",
        "print(estatisticas_vendas)\n",
        "\n",
        "# Salvar as estatísticas em um novo arquivo CSV\n",
        "estatisticas_vendas.to_csv('estatisticas_vendas.csv')\n"
      ]
    },
    {
      "cell_type": "markdown",
      "metadata": {
        "id": "XPDb5NrMup71"
      },
      "source": [
        "<a name=\"section4\"></a>\n",
        "\n",
        "## 4. Matplotlib: Visualização de Dados\n",
        "\n",
        "Matplotlib é uma biblioteca usada para criar visualizações estáticas, animadas e interativas em Python."
      ]
    },
    {
      "cell_type": "markdown",
      "metadata": {
        "id": "eySPEVgeu79f"
      },
      "source": [
        "### 4.1 Criando um Gráfico Simples"
      ]
    },
    {
      "cell_type": "code",
      "execution_count": null,
      "metadata": {
        "id": "hMoiCAl8uu6m"
      },
      "outputs": [],
      "source": [
        "import matplotlib.pyplot as plt"
      ]
    },
    {
      "cell_type": "markdown",
      "metadata": {
        "id": "_bu5j7ys_vQI"
      },
      "source": [
        "1. Plotar os dados do relatório de Vendas por Produto da Seção 3 Pandas"
      ]
    },
    {
      "cell_type": "code",
      "execution_count": null,
      "metadata": {
        "id": "dk0a5ENt_xQq"
      },
      "outputs": [],
      "source": [
        "# Gráfico de barras para total de vendas por produto\n",
        "plt.figure(figsize=(10, 6))\n",
        "plt.bar(relatorio_vendas['Produto'], relatorio_vendas['Total de Vendas'], color='skyblue')\n",
        "plt.xlabel('Produto')\n",
        "plt.ylabel('Total de Vendas')\n",
        "plt.title('Total de Vendas por Produto')\n",
        "plt.show()\n"
      ]
    },
    {
      "cell_type": "markdown",
      "metadata": {
        "id": "i3ToMlGPBNf5"
      },
      "source": [
        "2. Gráfico de Linha\n",
        "Um gráfico de linha é útil para mostrar tendências ao longo do tempo ou alguma sequência contínua de dados."
      ]
    },
    {
      "cell_type": "code",
      "execution_count": null,
      "metadata": {
        "id": "y8h4qUB3BO26"
      },
      "outputs": [],
      "source": [
        "# Dados de exemplo\n",
        "x = [1, 2, 3, 4, 5]\n",
        "y = [2, 3, 5, 7, 11]\n",
        "\n",
        "# Criar o gráfico de linha\n",
        "plt.figure(figsize=(8, 5))\n",
        "plt.plot(x, y, marker='o', linestyle='-', color='b', label='Série 1')\n",
        "plt.xlabel('Eixo X')\n",
        "plt.ylabel('Eixo Y')\n",
        "plt.title('Gráfico de Linha Simples')\n",
        "plt.legend()\n",
        "plt.grid(True)\n",
        "plt.show()\n"
      ]
    },
    {
      "cell_type": "markdown",
      "metadata": {
        "id": "0WMC03CyBPK6"
      },
      "source": [
        "3. Gráfico de Barras\n",
        "Um gráfico de barras é útil para comparar diferentes categorias ou grupos de dados."
      ]
    },
    {
      "cell_type": "code",
      "execution_count": null,
      "metadata": {
        "id": "3EldOViBBVdx"
      },
      "outputs": [],
      "source": [
        "# Dados de exemplo\n",
        "categorias = ['A', 'B', 'C', 'D']\n",
        "valores = [5, 7, 3, 8]\n",
        "\n",
        "# Criar o gráfico de barras\n",
        "plt.figure(figsize=(8, 5))\n",
        "plt.bar(categorias, valores, color='skyblue')\n",
        "plt.xlabel('Categorias')\n",
        "plt.ylabel('Valores')\n",
        "plt.title('Gráfico de Barras Simples')\n",
        "plt.show()\n"
      ]
    },
    {
      "cell_type": "markdown",
      "metadata": {
        "id": "lhHkDG7rBWO5"
      },
      "source": [
        "4. Gráfico de Dispersão (Scatter Plot)\n",
        "Um gráfico de dispersão é útil para visualizar a relação entre duas variáveis."
      ]
    },
    {
      "cell_type": "code",
      "execution_count": null,
      "metadata": {
        "id": "30YheYtEBYz5"
      },
      "outputs": [],
      "source": [
        "# Dados de exemplo\n",
        "x = [5, 7, 8, 7, 2, 17, 2, 9, 4, 11]\n",
        "y = [99, 86, 87, 88, 100, 86, 103, 87, 94, 78]\n",
        "\n",
        "# Criar o gráfico de dispersão\n",
        "plt.figure(figsize=(8, 5))\n",
        "plt.scatter(x, y, color='red', label='Dados de Dispersão')\n",
        "plt.xlabel('Eixo X')\n",
        "plt.ylabel('Eixo Y')\n",
        "plt.title('Gráfico de Dispersão Simples')\n",
        "plt.legend()\n",
        "plt.show()\n"
      ]
    },
    {
      "cell_type": "markdown",
      "metadata": {
        "id": "V6htq9pFu4P3"
      },
      "source": [
        "<a name=\"section5\"></a>\n",
        "\n",
        "## 5. Scikit-learn: Introdução ao Machine Learning\n",
        "Por enquanto usaremos modelos já existentes.\n",
        "\n",
        "Scikit-learn é uma biblioteca para aprendizado de máquina em Python. Ela fornece ferramentas simples e eficientes para análise de dados e modelagem preditiva."
      ]
    },
    {
      "cell_type": "markdown",
      "metadata": {
        "id": "afiNIUqYF96r"
      },
      "source": []
    },
    {
      "cell_type": "markdown",
      "metadata": {
        "id": "3mGLtaSGvFjo"
      },
      "source": [
        "### 5.1 Exemplo de Regressão Linear"
      ]
    },
    {
      "cell_type": "code",
      "execution_count": null,
      "metadata": {
        "id": "dJck-xslvVG9"
      },
      "outputs": [],
      "source": [
        "from sklearn.linear_model import LinearRegression\n",
        "import numpy as np"
      ]
    },
    {
      "cell_type": "code",
      "execution_count": null,
      "metadata": {
        "id": "Vedc5DtIvFHA"
      },
      "outputs": [],
      "source": [
        "# Dados de exemplo\n",
        "X = np.array([[1], [2], [3], [4], [5]])\n",
        "y = np.array([2, 3, 5, 7, 11])\n",
        "\n",
        "# Criando o modelo\n",
        "model = LinearRegression()\n",
        "model.fit(X, y)\n",
        "\n",
        "# Fazendo previsões\n",
        "y_pred = model.predict(X)\n",
        "print(\"Previsões:\", y_pred)\n",
        "\n",
        "# Visualizando a regressão\n",
        "plt.scatter(X, y, color='black')\n",
        "plt.plot(X, y_pred, color='blue', linewidth=3)\n",
        "plt.xlabel('x')\n",
        "plt.ylabel('y')\n",
        "plt.title('Regressão Linear')\n",
        "plt.show()\n"
      ]
    },
    {
      "cell_type": "markdown",
      "metadata": {
        "id": "4rqpkekSvYhF"
      },
      "source": [
        "Este notebook é uma introdução básica para começar com Python em Data Science. Pratique com seus próprios conjuntos de dados e explore mais funções das bibliotecas mencionadas para se aprofundar na análise de dados."
      ]
    },
    {
      "cell_type": "code",
      "execution_count": null,
      "metadata": {
        "id": "_ymZfdxyCpQq"
      },
      "outputs": [],
      "source": [
        "import numpy as np\n",
        "import pandas as pd\n",
        "import matplotlib.pyplot as plt\n",
        "from sklearn.model_selection import train_test_split\n",
        "from sklearn.linear_model import LinearRegression\n",
        "from sklearn.metrics import mean_squared_error, r2_score"
      ]
    },
    {
      "cell_type": "markdown",
      "metadata": {
        "id": "QtQoGYW-CXAy"
      },
      "source": [
        "Passo 2: Criar um Conjunto de Dados Fictício"
      ]
    },
    {
      "cell_type": "code",
      "execution_count": null,
      "metadata": {
        "id": "yA-XD4nSCjpi"
      },
      "outputs": [],
      "source": [
        "# Gerar dados fictícios\n",
        "np.random.seed(42)\n",
        "num_samples = 100 #numero de amostras\n",
        "\n",
        "area = np.random.normal(1500, 300, num_samples)\n",
        "quartos = np.random.randint(1, 6, num_samples)\n",
        "idade = np.random.randint(0, 30, num_samples)\n",
        "preco = 50000 + (area * 50) + (quartos * 3000) - (idade * 100) + np.random.normal(0, 10000, num_samples)\n",
        "\n",
        "# Criar DataFrame\n",
        "df = pd.DataFrame({'Area': area, 'Quartos': quartos, 'Idade': idade, 'Preco': preco})\n",
        "print(df.head())\n"
      ]
    },
    {
      "cell_type": "markdown",
      "metadata": {
        "id": "W754NOr-Cw-T"
      },
      "source": [
        "Passo 3: Visualizar os Dados"
      ]
    },
    {
      "cell_type": "code",
      "execution_count": null,
      "metadata": {
        "id": "pLNRtPBeCsQj"
      },
      "outputs": [],
      "source": [
        "# Visualizar a relação entre 'Area' e 'Preco'\n",
        "plt.scatter(df['Area'], df['Preco'])\n",
        "plt.xlabel('Área (sq ft)')\n",
        "plt.ylabel('Preço ($)')\n",
        "plt.title('Área vs Preço')\n",
        "plt.show()\n"
      ]
    },
    {
      "cell_type": "markdown",
      "metadata": {
        "id": "XGBde3GvCzJi"
      },
      "source": [
        "Passo 4: Dividir os Dados em Conjuntos de Treinamento e Teste"
      ]
    },
    {
      "cell_type": "code",
      "execution_count": null,
      "metadata": {
        "id": "TebTWc65C01A"
      },
      "outputs": [],
      "source": [
        "# Dividir os dados em conjuntos de treinamento e teste\n",
        "X = df[['Area', 'Quartos', 'Idade']]\n",
        "y = df['Preco']\n",
        "\n",
        "X_train, X_test, y_train, y_test = train_test_split(X, y, test_size=0.2, random_state=42)\n"
      ]
    },
    {
      "cell_type": "markdown",
      "metadata": {
        "id": "gSWcvNnTC2uv"
      },
      "source": [
        "Passo 5: Treinar o Modelo de Regressão Linear"
      ]
    },
    {
      "cell_type": "code",
      "execution_count": null,
      "metadata": {
        "id": "S2d3EDNnC7UA"
      },
      "outputs": [],
      "source": [
        "# Criar o modelo de regressão linear\n",
        "model = LinearRegression()\n",
        "\n",
        "# Treinar o modelo\n",
        "model.fit(X_train, y_train)\n"
      ]
    },
    {
      "cell_type": "markdown",
      "metadata": {
        "id": "3i8x_bLXC9Mo"
      },
      "source": [
        "Passo 6: Fazer Previsões"
      ]
    },
    {
      "cell_type": "code",
      "execution_count": null,
      "metadata": {
        "id": "kXuWvKIhC8ng"
      },
      "outputs": [],
      "source": [
        "# Fazer previsões no conjunto de teste\n",
        "y_pred = model.predict(X_test)\n"
      ]
    },
    {
      "cell_type": "markdown",
      "metadata": {
        "id": "fNkF-yPGDC8o"
      },
      "source": [
        "Passo 7: Avaliar o Modelo"
      ]
    },
    {
      "cell_type": "code",
      "execution_count": null,
      "metadata": {
        "colab": {
          "base_uri": "https://localhost:8080/"
        },
        "id": "OJI4ipxVDDUq",
        "outputId": "0f32f355-5c75-4115-8478-f21a76b037c5"
      },
      "outputs": [],
      "source": [
        "# Avaliar o modelo\n",
        "mse = mean_squared_error(y_test, y_pred)\n",
        "r2 = r2_score(y_test, y_pred)\n",
        "\n",
        "print(f'Mean Squared Error: {mse}')\n",
        "print(f'R^2 Score: {r2}')\n"
      ]
    },
    {
      "cell_type": "markdown",
      "metadata": {
        "id": "4kYAHn--DHAi"
      },
      "source": [
        "Passo 8: Visualizar as Previsões"
      ]
    },
    {
      "cell_type": "code",
      "execution_count": null,
      "metadata": {
        "id": "1E8ue4ncDJRC"
      },
      "outputs": [],
      "source": [
        "# Comparar os valores reais e previstos\n",
        "plt.scatter(y_test, y_pred)\n",
        "plt.xlabel('Valores Reais')\n",
        "plt.ylabel('Valores Previstos')\n",
        "plt.title('Valores Reais vs Valores Previstos')\n",
        "plt.show()\n"
      ]
    },
    {
      "cell_type": "markdown",
      "metadata": {
        "id": "WgWXZD6KGJa8"
      },
      "source": [
        "<a name=\"section6\"></a>\n",
        "\n",
        "## Extra (Opcional)\n",
        "\n",
        "#### **Desafio de Regressão Linear**\n",
        "\n",
        "Agora que você viu um exemplo de como realizar uma regressão linear, aqui está um desafio para você praticar:\n",
        "\n",
        "**Desafio\n",
        "Dataset**: Utilize um conjunto de dados real do [Kaggle](https://www.kaggle.com/datasets?fileType=csv) ou qualquer outro repositório. Um exemplo pode ser o dataset \"Boston Housing\" ou qualquer outro dataset de preços de casas.\n",
        "\n",
        "**Objetivo**: Crie um modelo de regressão linear para prever o preço das casas com base nas características disponíveis no dataset.\n",
        "\n",
        "\n",
        "**Passos a seguir**:\n",
        "Carregue e explore os dados.\n",
        "Faça a limpeza e o pré-processamento dos dados (trate valores ausentes, se necessário).\n",
        "Divida os dados em conjuntos de treinamento e teste.\n",
        "Treine um modelo de regressão linear.\n",
        "Avalie o modelo usando métricas como MSE e R^2.\n",
        "Visualize os resultados com gráficos apropriados.\n",
        "\n",
        "Mais extras:\n",
        "Experimente normalizar ou padronizar os dados antes de treinar o modelo.\n",
        "Tente usar a técnica de feature selection para selecionar as características mais importantes."
      ]
    },
    {
      "cell_type": "code",
      "execution_count": null,
      "metadata": {
        "id": "ENaurTagGera"
      },
      "outputs": [],
      "source": []
    },
    {
      "cell_type": "markdown",
      "metadata": {
        "id": "iXHVlGsMDKm6"
      },
      "source": [
        "### IEEE CS & CIS UFPB\n",
        "\n",
        "Linkedin: https://www.linkedin.com/company/ieee-cs-cis-chapter-at-ufpb/?originalSubdomain=br\n",
        "\n",
        "GitHub Page: https://github.com/CS-CIS-Joint-UFPB\n",
        "\n",
        "Linketree  https://linktr.ee/cs.ufpb"
      ]
    }
  ],
  "metadata": {
    "colab": {
      "provenance": []
    },
    "kernelspec": {
      "display_name": "base",
      "language": "python",
      "name": "python3"
    },
    "language_info": {
      "codemirror_mode": {
        "name": "ipython",
        "version": 3
      },
      "file_extension": ".py",
      "mimetype": "text/x-python",
      "name": "python",
      "nbconvert_exporter": "python",
      "pygments_lexer": "ipython3",
      "version": "3.12.7"
    }
  },
  "nbformat": 4,
  "nbformat_minor": 0
}
